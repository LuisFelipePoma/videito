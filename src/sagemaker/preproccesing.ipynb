{
 "cells": [
  {
   "cell_type": "code",
   "execution_count": 21,
   "id": "7392ebeb",
   "metadata": {},
   "outputs": [],
   "source": [
    "import pandas as pd\n",
    "from tqdm import tqdm\n",
    "from pathlib import Path\n",
    "import numpy as np\n",
    "import pandas as pd\n",
    "import cv2\n",
    "import os"
   ]
  },
  {
   "cell_type": "markdown",
   "id": "1877f354",
   "metadata": {},
   "source": [
    "# 1. Get Train Labels csv"
   ]
  },
  {
   "cell_type": "code",
   "execution_count": 5,
   "id": "95011083",
   "metadata": {},
   "outputs": [
    {
     "name": "stdout",
     "output_type": "stream",
     "text": [
      "(8925, 5)\n"
     ]
    }
   ],
   "source": [
    "df = pd.read_csv('AllLabels.csv')\n",
    "df.head()\n",
    "print(df.shape)"
   ]
  },
  {
   "cell_type": "code",
   "execution_count": 6,
   "id": "bbcba7e3",
   "metadata": {},
   "outputs": [],
   "source": [
    "# Cargar Labels del CSV\n",
    "def load_labels(csv_path):\n",
    "    df = pd.read_csv(csv_path)\n",
    "    labels_dict = {}\n",
    "    for _, row in df.iterrows():\n",
    "        clip_id = row['ClipID'].replace('.avi', '').replace('.mp4', '')\n",
    "        labels_dict[clip_id] = [row['Boredom'], row['Engagement'], row['Confusion'], row['Frustration']]\n",
    "    return labels_dict"
   ]
  },
  {
   "cell_type": "code",
   "execution_count": 7,
   "id": "644bc378",
   "metadata": {},
   "outputs": [],
   "source": [
    "# Procesar dataset\n",
    "def process_dataset(frames_root_folder):\n",
    "    frames_root_folder = Path(frames_root_folder)\n",
    "    video_folders = list(frames_root_folder.glob(\"*/*\"))\n",
    "    with open(\"video_folders.txt\", \"w\") as f:\n",
    "        for folder in video_folders:\n",
    "            folder = str(folder).split(\"\\\\\")[-1]\n",
    "            f.write(str(folder) + \"\\n\")"
   ]
  },
  {
   "cell_type": "code",
   "execution_count": 9,
   "id": "2ba9c60b",
   "metadata": {},
   "outputs": [],
   "source": [
    "frames_root = \"output_frames/Train\"\n",
    "process_dataset(frames_root)"
   ]
  },
  {
   "cell_type": "code",
   "execution_count": 10,
   "id": "0d1d8bb4",
   "metadata": {},
   "outputs": [
    {
     "data": {
      "text/plain": [
       "(5481, 5)"
      ]
     },
     "execution_count": 10,
     "metadata": {},
     "output_type": "execute_result"
    }
   ],
   "source": [
    "# Load the text file with ClipIDs\n",
    "with open(\"video_folders.txt\", \"r\") as f:\n",
    "    clip_ids = [line.strip() for line in f]\n",
    "df['ClipID'] = df['ClipID'].str.replace('.avi', '').str.replace('.mp4', '')\n",
    "filtered_df = df[df['ClipID'].isin(clip_ids)]\n",
    "filtered_df.shape"
   ]
  },
  {
   "cell_type": "code",
   "execution_count": null,
   "id": "9eb5c45e",
   "metadata": {},
   "outputs": [],
   "source": [
    "# save filtered_df to a csv file\n",
    "filtered_df.to_csv(\"TrainLabels.csv\", index=False)"
   ]
  },
  {
   "cell_type": "markdown",
   "id": "93839d17",
   "metadata": {},
   "source": [
    "# 2. Get Frames per Video"
   ]
  },
  {
   "cell_type": "code",
   "execution_count": 23,
   "id": "19edf53a",
   "metadata": {},
   "outputs": [],
   "source": [
    "def extract_frames_from_video(video_path, output_folder, max_frames=None):\n",
    "    cap = cv2.VideoCapture(str(video_path))\n",
    "    frame_count = 0\n",
    "    success, frame = cap.read()\n",
    "    \n",
    "    while success:\n",
    "        if max_frames and frame_count >= max_frames:\n",
    "            break\n",
    "        frame_filename = output_folder / f\"frame_{frame_count:04d}.jpg\"\n",
    "        cv2.imwrite(str(frame_filename), frame)\n",
    "        success, frame = cap.read()\n",
    "        frame_count += 1\n",
    "    cap.release()\n",
    "\n",
    "def get_all_video_paths(dataset_dir, subset=\"Train\"):\n",
    "    dataset_path = Path(dataset_dir) / subset\n",
    "    video_paths = []\n",
    "    for person_folder in dataset_path.iterdir():\n",
    "        if person_folder.is_dir():\n",
    "            for video_folder in person_folder.iterdir():\n",
    "                if video_folder.is_dir():\n",
    "                    for video_file in video_folder.glob(\"*.*\"):\n",
    "                        if video_file.suffix.lower() in [\".avi\", \".mp4\"]:\n",
    "                            video_paths.append(video_file)\n",
    "\n",
    "    return video_paths\n",
    "\n",
    "def getFramesPerVideo(dataset_dir, subset=\"Train\",max_frames_per_video=None, output_base=\"output_frames\"):\n",
    "    video_paths = get_all_video_paths(dataset_dir, subset=subset)\n",
    "    print(f\"Procesando {len(video_paths)} videos del conjunto {subset}...\")\n",
    "\n",
    "    for video_path in tqdm(video_paths, desc=\"Extrayendo frames\"):\n",
    "        relative_path = video_path.relative_to(dataset_dir)\n",
    "        output_folder = Path(output_base) / relative_path.parent\n",
    "        output_folder.mkdir(parents=True, exist_ok=True)\n",
    "        extract_frames_from_video(video_path, output_folder, max_frames=max_frames_per_video)"
   ]
  },
  {
   "cell_type": "code",
   "execution_count": null,
   "id": "420c0645",
   "metadata": {},
   "outputs": [
    {
     "name": "stdout",
     "output_type": "stream",
     "text": [
      "Procesando 5481 videos del conjunto Train...\n"
     ]
    },
    {
     "name": "stderr",
     "output_type": "stream",
     "text": [
      "Extrayendo frames:   8%|▊         | 465/5481 [06:03<49:12,  1.70it/s]  "
     ]
    }
   ],
   "source": [
    "subset = \"Train\"  # Cambia a \"Test\" o \"Validation\" según sea necesario\n",
    "getFramesPerVideo(\n",
    "    dataset_dir=\"../Datasets/DaiSee/DAiSEE/DataSet/\",          # Ruta raíz al dataset DAiSEE\n",
    "    subset=subset,\n",
    "    #max_videos=6000,             # Cuántos videos procesar\n",
    "    max_frames_per_video=75,       # Frames máximos por video (None = todos)\n",
    "    output_base=\"output_frames\"   # Carpeta donde guardar los frames extraídos\n",
    ")"
   ]
  },
  {
   "cell_type": "markdown",
   "id": "68a6b10d",
   "metadata": {},
   "source": [
    "# 3. Balance Data"
   ]
  },
  {
   "cell_type": "code",
   "execution_count": 4,
   "id": "4599fd66",
   "metadata": {},
   "outputs": [
    {
     "name": "stdout",
     "output_type": "stream",
     "text": [
      "       ClipID  Boredom  Engagement  Confusion  Frustration\n",
      "0  1100011002        0           2          0            0\n",
      "1  1100011003        0           2          0            0\n",
      "2  1100011004        0           3          0            0\n",
      "3  1100011005        0           3          0            0\n",
      "4  1100011006        0           3          0            0\n",
      "(5481, 5)\n"
     ]
    }
   ],
   "source": [
    "df_train = pd.read_csv(\"TrainLabels.csv\")\n",
    "print(df_train.head())\n",
    "print(df_train.shape)"
   ]
  },
  {
   "cell_type": "code",
   "execution_count": 7,
   "id": "5cc8445e",
   "metadata": {},
   "outputs": [
    {
     "name": "stdout",
     "output_type": "stream",
     "text": [
      "Boredom\n",
      "0    2488\n",
      "1    1763\n",
      "2    1074\n",
      "3     156\n",
      "Name: count, dtype: int64 Engagement\n",
      "2    2649\n",
      "3    2584\n",
      "1     214\n",
      "0      34\n",
      "Name: count, dtype: int64 Confusion\n",
      "0    3691\n",
      "1    1287\n",
      "2     436\n",
      "3      67\n",
      "Name: count, dtype: int64 Frustration\n",
      "0    4285\n",
      "1     959\n",
      "2     194\n",
      "3      43\n",
      "Name: count, dtype: int64\n"
     ]
    }
   ],
   "source": [
    "# print value_counts of each emotion\n",
    "print(df_train['Boredom'].value_counts(), df_train['Engagement'].value_counts(), df_train['Confusion'].value_counts(), df_train['Frustration'].value_counts())"
   ]
  },
  {
   "cell_type": "code",
   "execution_count": 6,
   "id": "becf20ec",
   "metadata": {},
   "outputs": [
    {
     "data": {
      "text/html": [
       "<div>\n",
       "<style scoped>\n",
       "    .dataframe tbody tr th:only-of-type {\n",
       "        vertical-align: middle;\n",
       "    }\n",
       "\n",
       "    .dataframe tbody tr th {\n",
       "        vertical-align: top;\n",
       "    }\n",
       "\n",
       "    .dataframe thead th {\n",
       "        text-align: right;\n",
       "    }\n",
       "</style>\n",
       "<table border=\"1\" class=\"dataframe\">\n",
       "  <thead>\n",
       "    <tr style=\"text-align: right;\">\n",
       "      <th></th>\n",
       "      <th>ClipID</th>\n",
       "      <th>Boredom</th>\n",
       "      <th>Engagement</th>\n",
       "      <th>Confusion</th>\n",
       "      <th>Frustration</th>\n",
       "    </tr>\n",
       "  </thead>\n",
       "  <tbody>\n",
       "    <tr>\n",
       "      <th>0</th>\n",
       "      <td>1100011002</td>\n",
       "      <td>0</td>\n",
       "      <td>2</td>\n",
       "      <td>0</td>\n",
       "      <td>0</td>\n",
       "    </tr>\n",
       "    <tr>\n",
       "      <th>1</th>\n",
       "      <td>1100011003</td>\n",
       "      <td>0</td>\n",
       "      <td>2</td>\n",
       "      <td>0</td>\n",
       "      <td>0</td>\n",
       "    </tr>\n",
       "    <tr>\n",
       "      <th>2</th>\n",
       "      <td>1100011004</td>\n",
       "      <td>0</td>\n",
       "      <td>3</td>\n",
       "      <td>0</td>\n",
       "      <td>0</td>\n",
       "    </tr>\n",
       "    <tr>\n",
       "      <th>3</th>\n",
       "      <td>1100011005</td>\n",
       "      <td>0</td>\n",
       "      <td>3</td>\n",
       "      <td>0</td>\n",
       "      <td>0</td>\n",
       "    </tr>\n",
       "    <tr>\n",
       "      <th>4</th>\n",
       "      <td>1100011006</td>\n",
       "      <td>0</td>\n",
       "      <td>3</td>\n",
       "      <td>0</td>\n",
       "      <td>0</td>\n",
       "    </tr>\n",
       "    <tr>\n",
       "      <th>...</th>\n",
       "      <td>...</td>\n",
       "      <td>...</td>\n",
       "      <td>...</td>\n",
       "      <td>...</td>\n",
       "      <td>...</td>\n",
       "    </tr>\n",
       "    <tr>\n",
       "      <th>5476</th>\n",
       "      <td>5221290275</td>\n",
       "      <td>1</td>\n",
       "      <td>2</td>\n",
       "      <td>1</td>\n",
       "      <td>1</td>\n",
       "    </tr>\n",
       "    <tr>\n",
       "      <th>5477</th>\n",
       "      <td>5221290279</td>\n",
       "      <td>0</td>\n",
       "      <td>3</td>\n",
       "      <td>0</td>\n",
       "      <td>0</td>\n",
       "    </tr>\n",
       "    <tr>\n",
       "      <th>5478</th>\n",
       "      <td>5221290280</td>\n",
       "      <td>1</td>\n",
       "      <td>1</td>\n",
       "      <td>0</td>\n",
       "      <td>1</td>\n",
       "    </tr>\n",
       "    <tr>\n",
       "      <th>5479</th>\n",
       "      <td>5221290282</td>\n",
       "      <td>0</td>\n",
       "      <td>3</td>\n",
       "      <td>1</td>\n",
       "      <td>0</td>\n",
       "    </tr>\n",
       "    <tr>\n",
       "      <th>5480</th>\n",
       "      <td>5221290284</td>\n",
       "      <td>1</td>\n",
       "      <td>3</td>\n",
       "      <td>0</td>\n",
       "      <td>0</td>\n",
       "    </tr>\n",
       "  </tbody>\n",
       "</table>\n",
       "<p>5481 rows × 5 columns</p>\n",
       "</div>"
      ],
      "text/plain": [
       "          ClipID  Boredom  Engagement  Confusion  Frustration\n",
       "0     1100011002        0           2          0            0\n",
       "1     1100011003        0           2          0            0\n",
       "2     1100011004        0           3          0            0\n",
       "3     1100011005        0           3          0            0\n",
       "4     1100011006        0           3          0            0\n",
       "...          ...      ...         ...        ...          ...\n",
       "5476  5221290275        1           2          1            1\n",
       "5477  5221290279        0           3          0            0\n",
       "5478  5221290280        1           1          0            1\n",
       "5479  5221290282        0           3          1            0\n",
       "5480  5221290284        1           3          0            0\n",
       "\n",
       "[5481 rows x 5 columns]"
      ]
     },
     "execution_count": 6,
     "metadata": {},
     "output_type": "execute_result"
    }
   ],
   "source": [
    "df_train"
   ]
  },
  {
   "cell_type": "code",
   "execution_count": 8,
   "id": "0e0ad43f",
   "metadata": {},
   "outputs": [
    {
     "name": "stdout",
     "output_type": "stream",
     "text": [
      "Boredom shape: (136, 5)\n",
      "Engagement shape: (136, 5)\n",
      "Confusion shape: (136, 5)\n",
      "Frustration shape: (136, 5)\n"
     ]
    }
   ],
   "source": [
    "import pandas as pd\n",
    "\n",
    "def balance_per_emotion(df, emotion, samples_per_class=34):\n",
    "    balanced = []\n",
    "    for level in range(4):  # niveles 0,1,2,3\n",
    "        subset = df[df[emotion] == level]\n",
    "        if len(subset) >= samples_per_class:\n",
    "            balanced.append(subset.sample(samples_per_class, random_state=42))\n",
    "        else:\n",
    "            print(f\"No hay suficientes muestras para {emotion} nivel {level}. Solo {len(subset)} disponibles.\")\n",
    "            balanced.append(subset)  # Agrega todo lo que haya (aunque sea menos de 34)\n",
    "    return pd.concat(balanced).reset_index(drop=True)\n",
    "\n",
    "# Balancear cada emoción por separado\n",
    "boredom_df = balance_per_emotion(df_train, 'Boredom')\n",
    "engagement_df = balance_per_emotion(df_train, 'Engagement')\n",
    "confusion_df = balance_per_emotion(df_train, 'Confusion')\n",
    "frustration_df = balance_per_emotion(df_train, 'Frustration')\n",
    "\n",
    "# Ahora tienes 4 datasets:\n",
    "print(\"Boredom shape:\", boredom_df.shape)\n",
    "print(\"Engagement shape:\", engagement_df.shape)\n",
    "print(\"Confusion shape:\", confusion_df.shape)\n",
    "print(\"Frustration shape:\", frustration_df.shape)\n",
    "\n",
    "# Opcional: guardar cada uno por separado\n",
    "# boredom_df.to_csv('boredom_balanced.csv', index=False)\n",
    "# engagement_df.to_csv('engagement_balanced.csv', index=False)\n",
    "# confusion_df.to_csv('confusion_balanced.csv', index=False)\n",
    "# frustration_df.to_csv('frustration_balanced.csv', index=False)"
   ]
  },
  {
   "cell_type": "code",
   "execution_count": 18,
   "id": "9aa36e3f",
   "metadata": {},
   "outputs": [
    {
     "data": {
      "text/plain": [
       "(136, 5)"
      ]
     },
     "execution_count": 18,
     "metadata": {},
     "output_type": "execute_result"
    }
   ],
   "source": [
    "boredom_df.shape"
   ]
  },
  {
   "cell_type": "code",
   "execution_count": 17,
   "id": "91328d22",
   "metadata": {},
   "outputs": [
    {
     "data": {
      "text/plain": [
       "(Boredom\n",
       " 0    34\n",
       " 1    34\n",
       " 2    34\n",
       " 3    34\n",
       " Name: count, dtype: int64,\n",
       " Engagement\n",
       " 2    65\n",
       " 3    57\n",
       " 1    13\n",
       " 0     1\n",
       " Name: count, dtype: int64,\n",
       " Confusion\n",
       " 0    82\n",
       " 1    35\n",
       " 2    17\n",
       " 3     2\n",
       " Name: count, dtype: int64,\n",
       " Frustration\n",
       " 0    99\n",
       " 1    27\n",
       " 2     7\n",
       " 3     3\n",
       " Name: count, dtype: int64)"
      ]
     },
     "execution_count": 17,
     "metadata": {},
     "output_type": "execute_result"
    }
   ],
   "source": [
    "boredom_df['Boredom'].value_counts(), boredom_df['Engagement'].value_counts(), boredom_df['Confusion'].value_counts(), boredom_df['Frustration'].value_counts()"
   ]
  }
 ],
 "metadata": {
  "kernelspec": {
   "display_name": "env",
   "language": "python",
   "name": "python3"
  },
  "language_info": {
   "codemirror_mode": {
    "name": "ipython",
    "version": 3
   },
   "file_extension": ".py",
   "mimetype": "text/x-python",
   "name": "python",
   "nbconvert_exporter": "python",
   "pygments_lexer": "ipython3",
   "version": "3.11.5"
  }
 },
 "nbformat": 4,
 "nbformat_minor": 5
}
