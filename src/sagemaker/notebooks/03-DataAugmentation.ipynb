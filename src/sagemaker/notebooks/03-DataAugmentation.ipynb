{
  "cells": [
    {
      "cell_type": "code",
      "execution_count": null,
      "metadata": {
        "id": "sF0zLKI1HBcm"
      },
      "outputs": [],
      "source": [
        "import cv2\n",
        "import os\n",
        "from vidaug import augmentors as va\n",
        "import pandas as pd\n",
        "import numpy as np\n",
        "import imageio"
      ]
    },
    {
      "cell_type": "code",
      "execution_count": null,
      "metadata": {},
      "outputs": [],
      "source": [
        "# >Iterate DAISEEsplitted/0 and save the name of each video in a dataframe\n",
        "df = pd.DataFrame(columns=['ClipID', 'label'])\n",
        "for i in range(0, 2):\n",
        "    path = '../DAiSEE/DataSet/Splitted/' + str(i) + '/'\n",
        "    for filename in os.listdir(path):\n",
        "        # if end with .avi or .mp4, append to dataframe\n",
        "        if filename.endswith('.avi') or filename.endswith('.mp4'):\n",
        "            new_row = pd.DataFrame({'ClipID': [filename], 'label': [i]})\n",
        "            df = pd.concat([df, new_row], ignore_index=True)"
      ]
    },
    {
      "cell_type": "code",
      "execution_count": null,
      "metadata": {},
      "outputs": [],
      "source": [
        "# Divide the dataframe into train for label 0 and label 1\n",
        "train_0 = df[df['label'] == 0].sample(frac=0.75, random_state=123)\n",
        "train_1 = df[df['label'] == 1].sample(frac=0.66, random_state=123)\n",
        "# get the rest of the data for validation\n",
        "val_0 = df[df['label'] == 0].drop(train_0.index)\n",
        "val_1 = df[df['label'] == 1].drop(train_1.index)\n",
        "\n",
        "train_0.shape, train_1.shape, val_0.shape, val_1.shape"
      ]
    },
    {
      "cell_type": "code",
      "execution_count": null,
      "metadata": {
        "id": "FX_GZnI5N9c0"
      },
      "outputs": [],
      "source": [
        "augClass0Path = \"../DAiSEE/DataSet/Aug/Batches/batch_01/0/\"\n",
        "augClass1Path = \"../DAiSEE/DataSet/Aug/Batches/batch_01/1/\"\n",
        "# Create path\n",
        "if not os.path.exists(augClass0Path):\n",
        "    os.makedirs(augClass0Path)\n",
        "if not os.path.exists(augClass1Path):\n",
        "    os.makedirs(augClass1Path)"
      ]
    },
    {
      "cell_type": "code",
      "execution_count": null,
      "metadata": {
        "id": "f5rTmdPX5Gws"
      },
      "outputs": [],
      "source": [
        "def frames_extraction(video_path):\n",
        "    frames_list = []\n",
        "    seqCount = 1\n",
        "    vidObj = cv2.VideoCapture(video_path)\n",
        "    while seqCount <= 300:\n",
        "        success, image = vidObj.read()\n",
        "        if success:\n",
        "            frames_list.append(image)\n",
        "            seqCount += 1\n",
        "        else:\n",
        "            print(\"Defected frame\")\n",
        "            break\n",
        "    vidObj.release()\n",
        "    return frames_list"
      ]
    },
    {
      "cell_type": "code",
      "execution_count": null,
      "metadata": {
        "id": "2we2uOICq11p"
      },
      "outputs": [],
      "source": [
        "#1. Apply class0 aug, one by one till reach 276, 552 and finally 1,104\n",
        "#2. Change classpath to be class1Path, instead of class0Path\n",
        "#3. Aug class1 to reach 600 video, then to reach 1,200 video\n",
        "#NB: at every aug check that right aug and augclass are uncommented + classPath, augClassPath and file name are selected correctly"
      ]
    },
    {
      "cell_type": "code",
      "execution_count": null,
      "metadata": {
        "colab": {
          "base_uri": "https://localhost:8080/"
        },
        "id": "lIeQ2ZTjfDpW",
        "outputId": "646c64b3-ab02-4576-e9a2-1930349a5786"
      },
      "outputs": [],
      "source": [
        "# Probabilidad para algunos augmentos (si quieres usar sometimes)\n",
        "sometimes = lambda aug: va.Sometimes(0.5, aug)\n",
        "\n",
        "# Define múltiples combinaciones de augmentación (puedes poner 15 o más)\n",
        "# ...existing code...\n",
        "\n",
        "combinations = [\n",
        "    [va.Salt()],\n",
        "    [va.Add(-20)],\n",
        "    [va.Pepper()],\n",
        "    [va.Multiply(2)],\n",
        "    [va.GaussianBlur(0.9)],\n",
        "    [va.InvertColor()],\n",
        "    [va.ElasticTransformation(alpha=5, sigma=1)],\n",
        "    [va.Salt(), va.Add(-20)],\n",
        "    [va.Pepper(), va.Multiply(2)],\n",
        "    [va.GaussianBlur(0.9), va.InvertColor()],\n",
        "    [va.ElasticTransformation(alpha=5, sigma=1), va.Salt()],\n",
        "    [sometimes(va.HorizontalFlip())],\n",
        "    [va.RandomShear(0.2, 0.1)],\n",
        "    [va.Add(-20), va.Multiply(2)],\n",
        "    [va.Salt(), va.GaussianBlur(0.9)],\n",
        "    # --- More combinations below ---\n",
        "    [va.RandomRotate(degrees=10)],  # Small rotation\n",
        "]\n",
        "\n",
        "# ...existing code...\n",
        "# combinations = [\n",
        "#    [va.RandomShear(0.2,0.1)],\n",
        "#    [va.RandomShear(0.2,0.1), sometimes(va.HorizontalFlip())],\n",
        "#    [va.RandomShear(0.2,0.1), sometimes(va.HorizontalFlip()), va.RandomShear(0.2,0.1), sometimes(va.HorizontalFlip())],\n",
        "# ]\n",
        "\n",
        "\n",
        "def video_augmentation(augClassPath, train):\n",
        "    videos = train[\"ClipID\"].tolist()\n",
        "    pathSplitted = \"../DAiSEE/DataSet/Splitted/\" + augClassPath[-2]\n",
        "\n",
        "    for v in videos:\n",
        "        video = frames_extraction(os.path.join(pathSplitted, v))\n",
        "\n",
        "        # Guardar video original sin cambios (si no existe)\n",
        "        save_name = f\"aug0000-{v}.mp4\"\n",
        "        savedVideo = os.path.join(augClassPath, save_name)\n",
        "\n",
        "        if not os.path.exists(savedVideo):\n",
        "            with imageio.get_writer(savedVideo, fps=30, format=\"ffmpeg\") as writer:\n",
        "                for frame in video:\n",
        "                    writer.append_data(frame)\n",
        "            print(\"Original guardado:\", savedVideo)\n",
        "        else:\n",
        "            print(\"Original ya existía:\", savedVideo)\n",
        "\n",
        "        # Aplicar cada combinación\n",
        "        for idx, combo in enumerate(combinations):\n",
        "            seq = va.Sequential(transforms=combo)\n",
        "            video_aug = seq(video)\n",
        "            video_aug = np.array(video_aug).astype(np.uint8)\n",
        "\n",
        "            save_name = f\"aug{idx+1:04d}-{v}.mp4\"  # aug01-, aug02-, ...\n",
        "            savedVideo = os.path.join(augClassPath, save_name)\n",
        "\n",
        "            with imageio.get_writer(savedVideo, fps=30, format=\"ffmpeg\") as writer:\n",
        "                for frame in video_aug:\n",
        "                    writer.append_data(frame)\n",
        "\n",
        "            print(\"Augmentado guardado:\", savedVideo)"
      ]
    },
    {
      "cell_type": "code",
      "execution_count": null,
      "metadata": {},
      "outputs": [],
      "source": [
        "#! Ejecutar para class 0\n",
        "# video_augmentation(augClass0Path, train_0)\n",
        "#! Ejecutar para class 1\n",
        "# video_augmentation(augClass1Path, train_1)"
      ]
    },
    {
      "cell_type": "code",
      "execution_count": null,
      "metadata": {},
      "outputs": [],
      "source": [
        "augClass0Path"
      ]
    },
    {
      "cell_type": "code",
      "execution_count": null,
      "metadata": {},
      "outputs": [],
      "source": [
        "train_0['ClipID'].tolist()[0][:5]"
      ]
    }
  ],
  "metadata": {
    "colab": {
      "provenance": []
    },
    "kernelspec": {
      "display_name": "tf",
      "language": "python",
      "name": "python3"
    },
    "language_info": {
      "codemirror_mode": {
        "name": "ipython",
        "version": 3
      },
      "file_extension": ".py",
      "mimetype": "text/x-python",
      "name": "python",
      "nbconvert_exporter": "python",
      "pygments_lexer": "ipython3",
      "version": "3.9.21"
    }
  },
  "nbformat": 4,
  "nbformat_minor": 0
}
