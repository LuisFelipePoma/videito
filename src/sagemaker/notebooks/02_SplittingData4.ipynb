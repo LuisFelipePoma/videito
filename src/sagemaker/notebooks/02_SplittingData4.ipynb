{
  "cells": [
    {
      "cell_type": "code",
      "execution_count": 4,
      "metadata": {},
      "outputs": [],
      "source": [
        "import os\n",
        "from tqdm import tqdm"
      ]
    },
    {
      "cell_type": "markdown",
      "metadata": {},
      "source": [
        "# 1. Join all datasets (Train, Test and Validation)"
      ]
    },
    {
      "cell_type": "code",
      "execution_count": 5,
      "metadata": {},
      "outputs": [
        {
          "name": "stderr",
          "output_type": "stream",
          "text": [
            "100%|██████████| 70/70 [00:56<00:00,  1.25it/s]\n",
            "100%|██████████| 21/21 [00:11<00:00,  1.90it/s]\n",
            "100%|██████████| 22/22 [00:12<00:00,  1.72it/s]\n"
          ]
        }
      ],
      "source": [
        "DAISEE_PATH = \"../DAiSEE\"\n",
        "# Join Train, Test, Validation folders in ALL folder\n",
        "root_dir = DAISEE_PATH + \"/DataSet/Train/\"\n",
        "root_dir_test = DAISEE_PATH + \"/DataSet/Test/\"\n",
        "root_dir_val = DAISEE_PATH + \"/DataSet/Validation/\"\n",
        "root_dir_all = DAISEE_PATH + \"/DataSet/All/\"\n",
        "os.makedirs(root_dir_all, exist_ok=True)\n",
        "\n",
        "# Function to copy videos from source to destination folder\n",
        "# Replace the copy_videos_to_all_folder function with this one\n",
        "def copy_videos_to_all_folder(source_folder, destination_folder):\n",
        "    import shutil\n",
        "\n",
        "    for student_id in tqdm(os.listdir(source_folder)):\n",
        "        student_path = os.path.join(source_folder, student_id)\n",
        "        if os.path.isdir(student_path):\n",
        "            for video_folder in os.listdir(student_path):\n",
        "                video_folder_path = os.path.join(student_path, video_folder)\n",
        "                if os.path.isdir(video_folder_path):\n",
        "                    dest_path = os.path.join(\n",
        "                        destination_folder, student_id, video_folder\n",
        "                    )\n",
        "                    os.makedirs(os.path.dirname(dest_path), exist_ok=True)\n",
        "                    shutil.copytree(video_folder_path, dest_path, dirs_exist_ok=True)\n",
        "\n",
        "# Copy Train videos to ALL folder\n",
        "copy_videos_to_all_folder(root_dir, root_dir_all)\n",
        "# Copy Test videos to ALL folder\n",
        "copy_videos_to_all_folder(root_dir_test, root_dir_all)\n",
        "# Copy Validation videos to ALL folder\n",
        "copy_videos_to_all_folder(root_dir_val, root_dir_all)"
      ]
    },
    {
      "cell_type": "markdown",
      "metadata": {},
      "source": [
        "# 2. Split data in 4 classes on his own folder"
      ]
    },
    {
      "cell_type": "code",
      "execution_count": null,
      "metadata": {},
      "outputs": [],
      "source": [
        "import shutil\n",
        "import csv\n",
        "\n",
        "csv_file = r\"../DAiSEE/Labels/AllLabels.csv\"\n",
        "existing_path_prefix = r\"../DAiSEE/DataSet/All\"\n",
        "new_path_prefix_0 = r\"../DAiSEE/DataSet/Splitted/0\"\n",
        "new_path_prefix_1 = r\"../DAiSEE/DataSet/Splitted/1\"\n",
        "new_path_prefix_2 = r\"../DAiSEE/DataSet/Splitted/2\"\n",
        "new_path_prefix_3 = r\"../DAiSEE/DataSet/Splitted/3\"\n",
        "# Create all this folders\n",
        "os.makedirs(existing_path_prefix, exist_ok=True)\n",
        "os.makedirs(new_path_prefix_0, exist_ok=True)\n",
        "os.makedirs(new_path_prefix_1, exist_ok=True)\n",
        "os.makedirs(new_path_prefix_2, exist_ok=True)\n",
        "os.makedirs(new_path_prefix_3, exist_ok=True)"
      ]
    },
    {
      "cell_type": "code",
      "execution_count": null,
      "metadata": {
        "id": "KltEusTimhu8"
      },
      "outputs": [],
      "source": [
        "\n",
        "for folderName in os.listdir(existing_path_prefix):\n",
        "    #if directory\n",
        "    if os.path.isdir(os.path.join(existing_path_prefix, folderName)):\n",
        "        #if not empty\n",
        "        if len(os.listdir(os.path.join(existing_path_prefix, folderName))) != 0:\n",
        "            for filename in os.listdir(os.path.join(existing_path_prefix, folderName)):\n",
        "                shutil.move(os.path.join(existing_path_prefix, folderName, filename), os.path.join(existing_path_prefix, filename))\n",
        "            os.rmdir(os.path.join(existing_path_prefix, folderName))\n",
        "    elif os.path.isfile(os.path.join(existing_path_prefix, folderName)):\n",
        "              print(\"file\")\n",
        "              continue\n",
        "\n",
        "with open(csv_file, 'r') as f:\n",
        "    reader = csv.reader(f)\n",
        "    for i, row in enumerate(reader):\n",
        "        if i == 0:\n",
        "            pass    # Skip header row\n",
        "        else:\n",
        "            filename, boredom, label, confusion, frustration  = row\n",
        "            if label == \"0\":\n",
        "                new_filename = os.path.join(new_path_prefix_0, filename)\n",
        "                print(label, new_filename)\n",
        "            elif label == \"1\":\n",
        "                new_filename = os.path.join(new_path_prefix_1, filename)\n",
        "                print(label, new_filename)\n",
        "            elif label == \"2\":\n",
        "                new_filename = os.path.join(new_path_prefix_2, filename)\n",
        "                print(label, new_filename)\n",
        "            elif label == \"3\":\n",
        "                new_filename = os.path.join(new_path_prefix_3, filename)\n",
        "                print(label, new_filename)\n",
        "            else:\n",
        "                print(\"not found\")\n",
        "            old_filename = os.path.join(existing_path_prefix, filename)\n",
        "            exist = os.path.isfile(old_filename)\n",
        "            print(exist)\n",
        "            if exist:\n",
        "                shutil.move(old_filename, new_filename)\n",
        "            else:\n",
        "                print(\"no found\")\n",
        "                continue\n"
      ]
    }
  ],
  "metadata": {
    "colab": {
      "provenance": []
    },
    "kernelspec": {
      "display_name": "tf",
      "language": "python",
      "name": "python3"
    },
    "language_info": {
      "codemirror_mode": {
        "name": "ipython",
        "version": 3
      },
      "file_extension": ".py",
      "mimetype": "text/x-python",
      "name": "python",
      "nbconvert_exporter": "python",
      "pygments_lexer": "ipython3",
      "version": "3.9.21"
    }
  },
  "nbformat": 4,
  "nbformat_minor": 0
}
