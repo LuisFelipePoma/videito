{
 "cells": [
  {
   "cell_type": "code",
   "execution_count": 1,
   "id": "b77ff52f",
   "metadata": {},
   "outputs": [],
   "source": [
    "# Import libraries\n",
    "import numpy as np\n",
    "import tensorflow as tf\n",
    "import pandas as pd\n",
    "from pathlib import Path\n",
    "from tqdm import tqdm\n",
    "import os\n",
    "import matplotlib.pyplot as plt\n",
    "from sklearn.model_selection import train_test_split\n",
    "from sklearn.metrics import confusion_matrix, ConfusionMatrixDisplay\n",
    "from sklearn.utils import class_weight\n",
    "from tensorflow.keras import layers, models\n",
    "from tensorflow.keras.models import Model\n",
    "from tensorflow.keras.layers import Input, Dense, Dropout, BatchNormalization\n",
    "from tensorflow.keras.callbacks import ModelCheckpoint, EarlyStopping, ReduceLROnPlateau\n",
    "from tensorflow.keras.optimizers import Adam\n",
    "import tensorflow.keras.backend as K\n",
    "from tensorflow.keras.metrics import AUC, Precision, Recall\n",
    "import pickle\n",
    "from sklearn.metrics import precision_recall_curve, f1_score, classification_report\n",
    "import matplotlib.pyplot as plt\n",
    "import numpy as np\n",
    "import seaborn as sns"
   ]
  },
  {
   "cell_type": "code",
   "execution_count": 2,
   "id": "4010dac4",
   "metadata": {},
   "outputs": [
    {
     "data": {
      "text/plain": [
       "((241, 300, 30), (241,))"
      ]
     },
     "execution_count": 2,
     "metadata": {},
     "output_type": "execute_result"
    }
   ],
   "source": [
    "# Charge X and y data that are in .npy format\n",
    "X = np.load('../save_model/X.npy')\n",
    "y = np.load('../save_model/y.npy')\n",
    "X.shape, y.shape"
   ]
  },
  {
   "cell_type": "code",
   "execution_count": 3,
   "id": "b8dc3e3a",
   "metadata": {},
   "outputs": [],
   "source": [
    "# Divide data in train, val and test\n",
    "X_train, X_test, y_train, y_test = train_test_split(X, y, test_size=0.2, random_state=42, stratify=y)\n",
    "X_train, X_val, y_train, y_val = train_test_split(X_train, y_train, test_size=0.2, random_state=42, stratify=y_train)\n",
    "#X_train.shape, X_val.shape, X_test.shape, y_train.shape, y_val.shape, y_test.shape"
   ]
  },
  {
   "cell_type": "code",
   "execution_count": 4,
   "id": "1f46e6e6",
   "metadata": {},
   "outputs": [],
   "source": [
    "def augment_sequence(x, noise_std=0.01, max_shift=5, scale_range=(0.9, 1.1), window_size=10):\n",
    "    \"\"\"\n",
    "    Aplica aumento de datos a una secuencia individual de forma (300, 30)\n",
    "    \"\"\"\n",
    "    # 1. Agregar ruido gaussiano\n",
    "    noise = np.random.normal(0, noise_std, x.shape)\n",
    "    x_aug = x + noise\n",
    "\n",
    "    # 2. Desplazamiento temporal (shift)\n",
    "    shift = np.random.randint(-max_shift, max_shift + 1)\n",
    "    x_aug = np.roll(x_aug, shift, axis=0)\n",
    "\n",
    "    # 3. Escalado\n",
    "    scale = np.random.uniform(scale_range[0], scale_range[1])\n",
    "    x_aug = x_aug * scale\n",
    "\n",
    "    # 4. Permutación de subventanas\n",
    "    num_segments = x.shape[0] // window_size\n",
    "    segments = np.array_split(x_aug[:num_segments * window_size], num_segments, axis=0)\n",
    "    np.random.shuffle(segments)\n",
    "    x_aug = np.concatenate(segments, axis=0)\n",
    "\n",
    "    return x_aug\n",
    "\n",
    "\n",
    "def augment_dataset(X, y, augment_factor=2):\n",
    "    \"\"\"\n",
    "    Aumenta el dataset X, y multiplicando los datos por augment_factor\n",
    "    \"\"\"\n",
    "    X_aug = []\n",
    "    y_aug = []\n",
    "\n",
    "    for i in range(len(X)):\n",
    "        for _ in range(augment_factor):\n",
    "            x_new = augment_sequence(X[i])\n",
    "            X_aug.append(x_new)\n",
    "            y_aug.append(y[i])\n",
    "\n",
    "    X_aug = np.array(X_aug)\n",
    "    y_aug = np.array(y_aug)\n",
    "    \n",
    "    # Mezclamos con los originales si quieres:\n",
    "    X_combined = np.concatenate([X, X_aug], axis=0)\n",
    "    y_combined = np.concatenate([y, y_aug], axis=0)\n",
    "\n",
    "    return X_combined, y_combined"
   ]
  },
  {
   "cell_type": "code",
   "execution_count": 5,
   "id": "1e9d712a",
   "metadata": {},
   "outputs": [
    {
     "name": "stdout",
     "output_type": "stream",
     "text": [
      "(1530, 300, 30)\n",
      "(1530,)\n"
     ]
    }
   ],
   "source": [
    "X_train_augmented, y_train_augmented = augment_dataset(X_train, y_train, augment_factor=9)\n",
    "print(X_train_augmented.shape)  # Debería ser (241 * 3, 300, 30)\n",
    "print(y_train_augmented.shape)"
   ]
  },
  {
   "cell_type": "code",
   "execution_count": 6,
   "id": "2a0cc653",
   "metadata": {},
   "outputs": [
    {
     "data": {
      "text/plain": [
       "((1530, 300, 30), (1530,), (39, 300, 30), (39,), (49, 300, 30), (49,))"
      ]
     },
     "execution_count": 6,
     "metadata": {},
     "output_type": "execute_result"
    }
   ],
   "source": [
    "X_train_augmented.shape, y_train_augmented.shape, X_val.shape, y_val.shape, X_test.shape, y_test.shape"
   ]
  },
  {
   "cell_type": "code",
   "execution_count": 7,
   "id": "6c5e189f",
   "metadata": {},
   "outputs": [],
   "source": [
    "# Calcular pesos automáticamente\n",
    "class_weights = class_weight.compute_class_weight(\n",
    "    class_weight='balanced',\n",
    "    classes=np.unique(y_train_augmented),\n",
    "    y=y_train_augmented\n",
    ")\n",
    "class_weights = dict(enumerate(class_weights))"
   ]
  },
  {
   "cell_type": "code",
   "execution_count": 17,
   "id": "fd0a6999",
   "metadata": {},
   "outputs": [
    {
     "name": "stderr",
     "output_type": "stream",
     "text": [
      "d:\\OneDrive - Universidad Peruana de Ciencias\\Documents\\Carrera\\2025-1\\TP1\\videito\\env\\Lib\\site-packages\\keras\\src\\layers\\convolutional\\base_conv.py:107: UserWarning: Do not pass an `input_shape`/`input_dim` argument to a layer. When using Sequential models, prefer using an `Input(shape)` object as the first layer in the model instead.\n",
      "  super().__init__(activity_regularizer=activity_regularizer, **kwargs)\n"
     ]
    }
   ],
   "source": [
    "from tensorflow.keras.models import Sequential\n",
    "from tensorflow.keras.layers import Conv1D, MaxPooling1D, BatchNormalization\n",
    "from tensorflow.keras.layers import Bidirectional, LSTM, Dropout, Dense\n",
    "from tensorflow.keras.optimizers import Adam\n",
    "from tensorflow.keras.callbacks import EarlyStopping, ReduceLROnPlateau\n",
    "\n",
    "# Callbacks\n",
    "early_stopping = EarlyStopping(monitor='val_loss', patience=10, restore_best_weights=True, verbose=1)\n",
    "reduce_lr = ReduceLROnPlateau(monitor='val_loss', factor=0.5, patience=3, verbose=1)\n",
    "\n",
    "# Modelo CNN + BiLSTM\n",
    "model = Sequential([\n",
    "    # CNN temporal para patrones locales (3-5 frames)\n",
    "    Conv1D(64, kernel_size=5, activation='relu', padding='same', input_shape=(300, 30)),\n",
    "    BatchNormalization(),\n",
    "    MaxPooling1D(pool_size=2),\n",
    "    Dropout(0.3),\n",
    "    \n",
    "    Conv1D(128, kernel_size=3, activation='relu', padding='same'),\n",
    "    BatchNormalization(),\n",
    "    MaxPooling1D(pool_size=2),\n",
    "    Dropout(0.3),\n",
    "    \n",
    "    # BiLSTM para relaciones temporales más largas\n",
    "    Bidirectional(LSTM(128, return_sequences=True)),\n",
    "    Dropout(0.4),\n",
    "    \n",
    "    Bidirectional(LSTM(64)),\n",
    "    Dropout(0.4),\n",
    "    \n",
    "    Dense(64, activation='relu'),\n",
    "    Dropout(0.3),\n",
    "    Dense(4, activation='softmax')  # 4 clases de atención\n",
    "])\n",
    "\n",
    "model.compile(optimizer=Adam(1e-4), loss='sparse_categorical_crossentropy', metrics=['accuracy'])"
   ]
  },
  {
   "cell_type": "code",
   "execution_count": 18,
   "id": "8c4f5880",
   "metadata": {},
   "outputs": [
    {
     "name": "stdout",
     "output_type": "stream",
     "text": [
      "Epoch 1/50\n",
      "\u001b[1m48/48\u001b[0m \u001b[32m━━━━━━━━━━━━━━━━━━━━\u001b[0m\u001b[37m\u001b[0m \u001b[1m9s\u001b[0m 76ms/step - accuracy: 0.2598 - loss: 1.4103 - val_accuracy: 0.2821 - val_loss: 1.3840 - learning_rate: 1.0000e-04\n",
      "Epoch 2/50\n",
      "\u001b[1m48/48\u001b[0m \u001b[32m━━━━━━━━━━━━━━━━━━━━\u001b[0m\u001b[37m\u001b[0m \u001b[1m3s\u001b[0m 65ms/step - accuracy: 0.3300 - loss: 1.3499 - val_accuracy: 0.3846 - val_loss: 1.3766 - learning_rate: 1.0000e-04\n",
      "Epoch 3/50\n",
      "\u001b[1m48/48\u001b[0m \u001b[32m━━━━━━━━━━━━━━━━━━━━\u001b[0m\u001b[37m\u001b[0m \u001b[1m3s\u001b[0m 65ms/step - accuracy: 0.3527 - loss: 1.3294 - val_accuracy: 0.3333 - val_loss: 1.3764 - learning_rate: 1.0000e-04\n",
      "Epoch 4/50\n",
      "\u001b[1m48/48\u001b[0m \u001b[32m━━━━━━━━━━━━━━━━━━━━\u001b[0m\u001b[37m\u001b[0m \u001b[1m3s\u001b[0m 67ms/step - accuracy: 0.4010 - loss: 1.2860 - val_accuracy: 0.3846 - val_loss: 1.3689 - learning_rate: 1.0000e-04\n",
      "Epoch 5/50\n",
      "\u001b[1m48/48\u001b[0m \u001b[32m━━━━━━━━━━━━━━━━━━━━\u001b[0m\u001b[37m\u001b[0m \u001b[1m3s\u001b[0m 68ms/step - accuracy: 0.4479 - loss: 1.2440 - val_accuracy: 0.4103 - val_loss: 1.3573 - learning_rate: 1.0000e-04\n",
      "Epoch 6/50\n",
      "\u001b[1m48/48\u001b[0m \u001b[32m━━━━━━━━━━━━━━━━━━━━\u001b[0m\u001b[37m\u001b[0m \u001b[1m3s\u001b[0m 67ms/step - accuracy: 0.4798 - loss: 1.1669 - val_accuracy: 0.4103 - val_loss: 1.3598 - learning_rate: 1.0000e-04\n",
      "Epoch 7/50\n",
      "\u001b[1m48/48\u001b[0m \u001b[32m━━━━━━━━━━━━━━━━━━━━\u001b[0m\u001b[37m\u001b[0m \u001b[1m3s\u001b[0m 67ms/step - accuracy: 0.5608 - loss: 1.0850 - val_accuracy: 0.4103 - val_loss: 1.3310 - learning_rate: 1.0000e-04\n",
      "Epoch 8/50\n",
      "\u001b[1m48/48\u001b[0m \u001b[32m━━━━━━━━━━━━━━━━━━━━\u001b[0m\u001b[37m\u001b[0m \u001b[1m3s\u001b[0m 67ms/step - accuracy: 0.5819 - loss: 1.0484 - val_accuracy: 0.3590 - val_loss: 1.3998 - learning_rate: 1.0000e-04\n",
      "Epoch 9/50\n",
      "\u001b[1m48/48\u001b[0m \u001b[32m━━━━━━━━━━━━━━━━━━━━\u001b[0m\u001b[37m\u001b[0m \u001b[1m3s\u001b[0m 67ms/step - accuracy: 0.6094 - loss: 0.9780 - val_accuracy: 0.3077 - val_loss: 1.5018 - learning_rate: 1.0000e-04\n",
      "Epoch 10/50\n",
      "\u001b[1m48/48\u001b[0m \u001b[32m━━━━━━━━━━━━━━━━━━━━\u001b[0m\u001b[37m\u001b[0m \u001b[1m0s\u001b[0m 65ms/step - accuracy: 0.6622 - loss: 0.8804\n",
      "Epoch 10: ReduceLROnPlateau reducing learning rate to 4.999999873689376e-05.\n",
      "\u001b[1m48/48\u001b[0m \u001b[32m━━━━━━━━━━━━━━━━━━━━\u001b[0m\u001b[37m\u001b[0m \u001b[1m3s\u001b[0m 66ms/step - accuracy: 0.6623 - loss: 0.8802 - val_accuracy: 0.3333 - val_loss: 1.6634 - learning_rate: 1.0000e-04\n",
      "Epoch 11/50\n",
      "\u001b[1m48/48\u001b[0m \u001b[32m━━━━━━━━━━━━━━━━━━━━\u001b[0m\u001b[37m\u001b[0m \u001b[1m3s\u001b[0m 66ms/step - accuracy: 0.7067 - loss: 0.7741 - val_accuracy: 0.3846 - val_loss: 1.6582 - learning_rate: 5.0000e-05\n",
      "Epoch 12/50\n",
      "\u001b[1m48/48\u001b[0m \u001b[32m━━━━━━━━━━━━━━━━━━━━\u001b[0m\u001b[37m\u001b[0m \u001b[1m3s\u001b[0m 69ms/step - accuracy: 0.7508 - loss: 0.6864 - val_accuracy: 0.3333 - val_loss: 1.8612 - learning_rate: 5.0000e-05\n",
      "Epoch 13/50\n",
      "\u001b[1m48/48\u001b[0m \u001b[32m━━━━━━━━━━━━━━━━━━━━\u001b[0m\u001b[37m\u001b[0m \u001b[1m0s\u001b[0m 66ms/step - accuracy: 0.7903 - loss: 0.6217\n",
      "Epoch 13: ReduceLROnPlateau reducing learning rate to 2.499999936844688e-05.\n",
      "\u001b[1m48/48\u001b[0m \u001b[32m━━━━━━━━━━━━━━━━━━━━\u001b[0m\u001b[37m\u001b[0m \u001b[1m3s\u001b[0m 68ms/step - accuracy: 0.7904 - loss: 0.6214 - val_accuracy: 0.3333 - val_loss: 1.8743 - learning_rate: 5.0000e-05\n",
      "Epoch 14/50\n",
      "\u001b[1m48/48\u001b[0m \u001b[32m━━━━━━━━━━━━━━━━━━━━\u001b[0m\u001b[37m\u001b[0m \u001b[1m3s\u001b[0m 71ms/step - accuracy: 0.8176 - loss: 0.5523 - val_accuracy: 0.3333 - val_loss: 1.9987 - learning_rate: 2.5000e-05\n",
      "Epoch 15/50\n",
      "\u001b[1m48/48\u001b[0m \u001b[32m━━━━━━━━━━━━━━━━━━━━\u001b[0m\u001b[37m\u001b[0m \u001b[1m3s\u001b[0m 70ms/step - accuracy: 0.8228 - loss: 0.5329 - val_accuracy: 0.3077 - val_loss: 2.0395 - learning_rate: 2.5000e-05\n",
      "Epoch 16/50\n",
      "\u001b[1m48/48\u001b[0m \u001b[32m━━━━━━━━━━━━━━━━━━━━\u001b[0m\u001b[37m\u001b[0m \u001b[1m0s\u001b[0m 64ms/step - accuracy: 0.8383 - loss: 0.4969\n",
      "Epoch 16: ReduceLROnPlateau reducing learning rate to 1.249999968422344e-05.\n",
      "\u001b[1m48/48\u001b[0m \u001b[32m━━━━━━━━━━━━━━━━━━━━\u001b[0m\u001b[37m\u001b[0m \u001b[1m3s\u001b[0m 66ms/step - accuracy: 0.8382 - loss: 0.4968 - val_accuracy: 0.3333 - val_loss: 2.0442 - learning_rate: 2.5000e-05\n",
      "Epoch 17/50\n",
      "\u001b[1m48/48\u001b[0m \u001b[32m━━━━━━━━━━━━━━━━━━━━\u001b[0m\u001b[37m\u001b[0m \u001b[1m3s\u001b[0m 68ms/step - accuracy: 0.8486 - loss: 0.4469 - val_accuracy: 0.3590 - val_loss: 2.0816 - learning_rate: 1.2500e-05\n",
      "Epoch 17: early stopping\n",
      "Restoring model weights from the end of the best epoch: 7.\n"
     ]
    }
   ],
   "source": [
    "history = model.fit(\n",
    "    X_train_augmented, y_train_augmented,\n",
    "    validation_data=(X_val, y_val),\n",
    "    class_weight=class_weights,\n",
    "    epochs=50,\n",
    "    batch_size=32,\n",
    "    callbacks=[early_stopping, reduce_lr],\n",
    "    verbose=1\n",
    ")"
   ]
  },
  {
   "cell_type": "code",
   "execution_count": 19,
   "id": "b5e5bbc1",
   "metadata": {},
   "outputs": [
    {
     "data": {
      "text/plain": [
       "((1530, 300, 30), (1530,), (39, 300, 30), (39,), (49, 300, 30), (49,))"
      ]
     },
     "execution_count": 19,
     "metadata": {},
     "output_type": "execute_result"
    }
   ],
   "source": [
    "X_train_augmented.shape, y_train_augmented.shape, X_val.shape, y_val.shape, X_test.shape, y_test.shape  "
   ]
  },
  {
   "cell_type": "code",
   "execution_count": 20,
   "id": "f6506e89",
   "metadata": {},
   "outputs": [
    {
     "data": {
      "image/png": "[encoded data removed]",
      "text/plain": [
       "<Figure size 800x500 with 1 Axes>"
      ]
     },
     "metadata": {},
     "output_type": "display_data"
    }
   ],
   "source": [
    "# Graficar accuracy de cada modelo\n",
    "plt.figure(figsize=(8, 5))\n",
    "plt.plot(history.history['accuracy'], label='Train Accuracy')\n",
    "plt.plot(history.history['val_accuracy'], label='Validation Accuracy')\n",
    "plt.title(f'Accuracy vs Val_Accuracy')\n",
    "plt.xlabel('Epochs')\n",
    "plt.ylabel('Accuracy')\n",
    "plt.legend()\n",
    "plt.grid(True)\n",
    "plt.show()"
   ]
  },
  {
   "cell_type": "code",
   "execution_count": 21,
   "id": "ac99c4a6",
   "metadata": {},
   "outputs": [
    {
     "name": "stdout",
     "output_type": "stream",
     "text": [
      "\u001b[1m2/2\u001b[0m \u001b[32m━━━━━━━━━━━━━━━━━━━━\u001b[0m\u001b[37m\u001b[0m \u001b[1m1s\u001b[0m 453ms/step\n"
     ]
    }
   ],
   "source": [
    "# Predicciones individuales de cada modelo\n",
    "# make a summartory of X_val and X_test in a new variable\n",
    "#X_val_test = np.concatenate([X_val, X_test], axis=0)\n",
    "#y_val_test = np.concatenate([y_val, y_test], axis=0)\n",
    "preds = model.predict(X_test)\n",
    "final_preds = np.argmax(preds, axis=1)"
   ]
  },
  {
   "cell_type": "code",
   "execution_count": 22,
   "id": "67da2493",
   "metadata": {},
   "outputs": [
    {
     "data": {
      "image/png": "[encoded data removed]",
      "text/plain": [
       "<Figure size 800x600 with 2 Axes>"
      ]
     },
     "metadata": {},
     "output_type": "display_data"
    }
   ],
   "source": [
    "cm = confusion_matrix(y_test, final_preds)\n",
    "plt.figure(figsize=(8, 6))\n",
    "sns.heatmap(cm, annot=True, fmt=\"d\", cmap=\"Blues\", xticklabels=np.arange(cm.shape[1]), yticklabels=np.arange(cm.shape[0]))\n",
    "plt.title(\"Matriz de Confusión\")\n",
    "plt.xlabel(\"Etiqueta Predicha\")\n",
    "plt.ylabel(\"Etiqueta Real\")\n",
    "plt.show()"
   ]
  },
  {
   "cell_type": "code",
   "execution_count": 23,
   "id": "15224927",
   "metadata": {},
   "outputs": [
    {
     "name": "stdout",
     "output_type": "stream",
     "text": [
      "              precision    recall  f1-score   support\n",
      "\n",
      "           0      0.300     0.250     0.273        12\n",
      "           1      0.200     0.250     0.222        12\n",
      "           2      0.381     0.615     0.471        13\n",
      "           3      0.667     0.167     0.267        12\n",
      "\n",
      "    accuracy                          0.327        49\n",
      "   macro avg      0.387     0.321     0.308        49\n",
      "weighted avg      0.387     0.327     0.311        49\n",
      "\n"
     ]
    }
   ],
   "source": [
    "# view classification report\n",
    "print(classification_report(y_test, final_preds, digits=3))"
   ]
  },
  {
   "cell_type": "code",
   "execution_count": 1,
   "id": "d246ab28",
   "metadata": {},
   "outputs": [
    {
     "ename": "NameError",
     "evalue": "name 'model' is not defined",
     "output_type": "error",
     "traceback": [
      "\u001b[31m---------------------------------------------------------------------------\u001b[39m",
      "\u001b[31mNameError\u001b[39m                                 Traceback (most recent call last)",
      "\u001b[36mCell\u001b[39m\u001b[36m \u001b[39m\u001b[32mIn[1]\u001b[39m\u001b[32m, line 2\u001b[39m\n\u001b[32m      1\u001b[39m \u001b[38;5;66;03m# Save the model\u001b[39;00m\n\u001b[32m----> \u001b[39m\u001b[32m2\u001b[39m \u001b[43mmodel\u001b[49m.save(\u001b[33m'\u001b[39m\u001b[33m../save_model/TCN_38.h5\u001b[39m\u001b[33m'\u001b[39m)\n\u001b[32m      3\u001b[39m \u001b[38;5;66;03m# Save the history\u001b[39;00m\n\u001b[32m      4\u001b[39m \u001b[38;5;28;01mwith\u001b[39;00m \u001b[38;5;28mopen\u001b[39m(\u001b[33m'\u001b[39m\u001b[33m../save_model/history_TCN_38.pkl\u001b[39m\u001b[33m'\u001b[39m, \u001b[33m'\u001b[39m\u001b[33mwb\u001b[39m\u001b[33m'\u001b[39m) \u001b[38;5;28;01mas\u001b[39;00m f:\n",
      "\u001b[31mNameError\u001b[39m: name 'model' is not defined"
     ]
    }
   ],
   "source": [
    "# Save the model\n",
    "model.save('../save_model/TCN_38.h5')\n",
    "# Save the history\n",
    "with open('../save_model/history_TCN_38.pkl', 'wb') as f:\n",
    "    pickle.dump(history.history, f)"
   ]
  }
 ],
 "metadata": {
  "kernelspec": {
   "display_name": "env",
   "language": "python",
   "name": "python3"
  },
  "language_info": {
   "codemirror_mode": {
    "name": "ipython",
    "version": 3
   },
   "file_extension": ".py",
   "mimetype": "text/x-python",
   "name": "python",
   "nbconvert_exporter": "python",
   "pygments_lexer": "ipython3",
   "version": "3.11.5"
  }
 },
 "nbformat": 4,
 "nbformat_minor": 5
}
