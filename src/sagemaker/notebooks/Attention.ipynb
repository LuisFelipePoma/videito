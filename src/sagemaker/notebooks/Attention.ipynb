{
 "cells": [
  {
   "cell_type": "code",
   "execution_count": 1,
   "id": "b77ff52f",
   "metadata": {},
   "outputs": [],
   "source": [
    "# Import libraries\n",
    "import numpy as np\n",
    "import tensorflow as tf\n",
    "import pandas as pd\n",
    "from pathlib import Path\n",
    "from tqdm import tqdm\n",
    "import os\n",
    "import matplotlib.pyplot as plt\n",
    "from sklearn.model_selection import train_test_split\n",
    "from sklearn.metrics import confusion_matrix, ConfusionMatrixDisplay\n",
    "from sklearn.utils import class_weight\n",
    "from tensorflow.keras import layers, models\n",
    "from tensorflow.keras.models import Model\n",
    "from tensorflow.keras.layers import Input, Dense, Dropout, BatchNormalization\n",
    "from tensorflow.keras.callbacks import ModelCheckpoint, EarlyStopping, ReduceLROnPlateau\n",
    "from tensorflow.keras.optimizers import Adam\n",
    "import tensorflow.keras.backend as K\n",
    "from tensorflow.keras.metrics import AUC, Precision, Recall\n",
    "import pickle\n",
    "from sklearn.metrics import precision_recall_curve, f1_score, classification_report\n",
    "import matplotlib.pyplot as plt\n",
    "import numpy as np\n",
    "import seaborn as sns"
   ]
  },
  {
   "cell_type": "code",
   "execution_count": 2,
   "id": "4010dac4",
   "metadata": {},
   "outputs": [
    {
     "data": {
      "text/plain": [
       "((241, 300, 30), (241,))"
      ]
     },
     "execution_count": 2,
     "metadata": {},
     "output_type": "execute_result"
    }
   ],
   "source": [
    "# Charge X and y data that are in .npy format\n",
    "X = np.load('../save_model/X.npy')\n",
    "y = np.load('../save_model/y.npy')\n",
    "X.shape, y.shape"
   ]
  },
  {
   "cell_type": "code",
   "execution_count": 3,
   "id": "b8dc3e3a",
   "metadata": {},
   "outputs": [],
   "source": [
    "# Divide data in train, val and test\n",
    "X_train, X_test, y_train, y_test = train_test_split(X, y, test_size=0.2, random_state=42, stratify=y)\n",
    "X_train, X_val, y_train, y_val = train_test_split(X_train, y_train, test_size=0.2, random_state=42, stratify=y_train)\n",
    "#X_train.shape, X_val.shape, X_test.shape, y_train.shape, y_val.shape, y_test.shape"
   ]
  },
  {
   "cell_type": "code",
   "execution_count": 4,
   "id": "1f46e6e6",
   "metadata": {},
   "outputs": [],
   "source": [
    "def augment_sequence(x, noise_std=0.01, max_shift=5, scale_range=(0.9, 1.1), window_size=10):\n",
    "    \"\"\"\n",
    "    Aplica aumento de datos a una secuencia individual de forma (300, 30)\n",
    "    \"\"\"\n",
    "    # 1. Agregar ruido gaussiano\n",
    "    noise = np.random.normal(0, noise_std, x.shape)\n",
    "    x_aug = x + noise\n",
    "\n",
    "    # 2. Desplazamiento temporal (shift)\n",
    "    shift = np.random.randint(-max_shift, max_shift + 1)\n",
    "    x_aug = np.roll(x_aug, shift, axis=0)\n",
    "\n",
    "    # 3. Escalado\n",
    "    scale = np.random.uniform(scale_range[0], scale_range[1])\n",
    "    x_aug = x_aug * scale\n",
    "\n",
    "    # 4. Permutación de subventanas\n",
    "    num_segments = x.shape[0] // window_size\n",
    "    segments = np.array_split(x_aug[:num_segments * window_size], num_segments, axis=0)\n",
    "    np.random.shuffle(segments)\n",
    "    x_aug = np.concatenate(segments, axis=0)\n",
    "\n",
    "    return x_aug\n",
    "\n",
    "\n",
    "def augment_dataset(X, y, augment_factor=2):\n",
    "    \"\"\"\n",
    "    Aumenta el dataset X, y multiplicando los datos por augment_factor\n",
    "    \"\"\"\n",
    "    X_aug = []\n",
    "    y_aug = []\n",
    "\n",
    "    for i in range(len(X)):\n",
    "        for _ in range(augment_factor):\n",
    "            x_new = augment_sequence(X[i])\n",
    "            X_aug.append(x_new)\n",
    "            y_aug.append(y[i])\n",
    "\n",
    "    X_aug = np.array(X_aug)\n",
    "    y_aug = np.array(y_aug)\n",
    "    \n",
    "    # Mezclamos con los originales si quieres:\n",
    "    X_combined = np.concatenate([X, X_aug], axis=0)\n",
    "    y_combined = np.concatenate([y, y_aug], axis=0)\n",
    "\n",
    "    return X_combined, y_combined"
   ]
  },
  {
   "cell_type": "code",
   "execution_count": 5,
   "id": "1e9d712a",
   "metadata": {},
   "outputs": [
    {
     "name": "stdout",
     "output_type": "stream",
     "text": [
      "(1530, 300, 30)\n",
      "(1530,)\n"
     ]
    }
   ],
   "source": [
    "X_train_augmented, y_train_augmented = augment_dataset(X_train, y_train, augment_factor=9)\n",
    "print(X_train_augmented.shape)  # Debería ser (241 * 3, 300, 30)\n",
    "print(y_train_augmented.shape)"
   ]
  },
  {
   "cell_type": "code",
   "execution_count": 6,
   "id": "2a0cc653",
   "metadata": {},
   "outputs": [
    {
     "data": {
      "text/plain": [
       "((1530, 300, 30), (1530,), (39, 300, 30), (39,), (49, 300, 30), (49,))"
      ]
     },
     "execution_count": 6,
     "metadata": {},
     "output_type": "execute_result"
    }
   ],
   "source": [
    "X_train_augmented.shape, y_train_augmented.shape, X_val.shape, y_val.shape, X_test.shape, y_test.shape"
   ]
  },
  {
   "cell_type": "code",
   "execution_count": 7,
   "id": "6c5e189f",
   "metadata": {},
   "outputs": [],
   "source": [
    "# Calcular pesos automáticamente\n",
    "class_weights = class_weight.compute_class_weight(\n",
    "    class_weight='balanced',\n",
    "    classes=np.unique(y_train_augmented),\n",
    "    y=y_train_augmented\n",
    ")\n",
    "class_weights = dict(enumerate(class_weights))"
   ]
  },
  {
   "cell_type": "code",
   "execution_count": 11,
   "id": "fd0a6999",
   "metadata": {},
   "outputs": [],
   "source": [
    "from tensorflow.keras.layers import Attention, Input, LSTM, Bidirectional, Dense, Dropout, LayerNormalization, TimeDistributed\n",
    "from tensorflow.keras.models import Model\n",
    "from tensorflow.keras.layers import Conv1D, MaxPooling1D, Flatten\n",
    "\n",
    "early_stopping = EarlyStopping(monitor='val_loss', patience=10, restore_best_weights=True, verbose=1)\n",
    "reduce_lr = ReduceLROnPlateau(monitor='val_loss', factor=0.5, patience=3, verbose=1)\n",
    "\n",
    "inp = Input(shape=(300, 30))\n",
    "x = Conv1D(64, 5, padding='same', activation='relu')(inp)\n",
    "x = MaxPooling1D(2)(x)\n",
    "x = Bidirectional(LSTM(64, return_sequences=True))(x)\n",
    "x = Dropout(0.4)(x)\n",
    "\n",
    "# Attention Layer\n",
    "query = Dense(64)(x)\n",
    "value = Dense(64)(x)\n",
    "attn = Attention()([query, value])\n",
    "x = Dropout(0.3)(attn)\n",
    "\n",
    "x = LSTM(64)(x)\n",
    "x = Dense(64, activation='relu')(x)\n",
    "x = Dropout(0.3)(x)\n",
    "out = Dense(4, activation='softmax')(x)\n",
    "\n",
    "model = Model(inputs=inp, outputs=out)\n",
    "model.compile(optimizer=Adam(1e-4), loss='sparse_categorical_crossentropy', metrics=['accuracy'])"
   ]
  },
  {
   "cell_type": "code",
   "execution_count": 12,
   "id": "8c4f5880",
   "metadata": {},
   "outputs": [
    {
     "name": "stdout",
     "output_type": "stream",
     "text": [
      "Epoch 1/50\n",
      "\u001b[1m48/48\u001b[0m \u001b[32m━━━━━━━━━━━━━━━━━━━━\u001b[0m\u001b[37m\u001b[0m \u001b[1m7s\u001b[0m 72ms/step - accuracy: 0.2484 - loss: 1.3944 - val_accuracy: 0.2821 - val_loss: 1.3866 - learning_rate: 1.0000e-04\n",
      "Epoch 2/50\n",
      "\u001b[1m48/48\u001b[0m \u001b[32m━━━━━━━━━━━━━━━━━━━━\u001b[0m\u001b[37m\u001b[0m \u001b[1m3s\u001b[0m 63ms/step - accuracy: 0.2768 - loss: 1.3848 - val_accuracy: 0.3077 - val_loss: 1.3798 - learning_rate: 1.0000e-04\n",
      "Epoch 3/50\n",
      "\u001b[1m48/48\u001b[0m \u001b[32m━━━━━━━━━━━━━━━━━━━━\u001b[0m\u001b[37m\u001b[0m \u001b[1m3s\u001b[0m 67ms/step - accuracy: 0.3206 - loss: 1.3736 - val_accuracy: 0.3077 - val_loss: 1.3647 - learning_rate: 1.0000e-04\n",
      "Epoch 4/50\n",
      "\u001b[1m48/48\u001b[0m \u001b[32m━━━━━━━━━━━━━━━━━━━━\u001b[0m\u001b[37m\u001b[0m \u001b[1m3s\u001b[0m 66ms/step - accuracy: 0.3210 - loss: 1.3574 - val_accuracy: 0.3077 - val_loss: 1.3473 - learning_rate: 1.0000e-04\n",
      "Epoch 5/50\n",
      "\u001b[1m48/48\u001b[0m \u001b[32m━━━━━━━━━━━━━━━━━━━━\u001b[0m\u001b[37m\u001b[0m \u001b[1m3s\u001b[0m 66ms/step - accuracy: 0.3776 - loss: 1.3161 - val_accuracy: 0.3333 - val_loss: 1.3486 - learning_rate: 1.0000e-04\n",
      "Epoch 6/50\n",
      "\u001b[1m48/48\u001b[0m \u001b[32m━━━━━━━━━━━━━━━━━━━━\u001b[0m\u001b[37m\u001b[0m \u001b[1m3s\u001b[0m 65ms/step - accuracy: 0.4010 - loss: 1.2816 - val_accuracy: 0.2564 - val_loss: 1.3594 - learning_rate: 1.0000e-04\n",
      "Epoch 7/50\n",
      "\u001b[1m48/48\u001b[0m \u001b[32m━━━━━━━━━━━━━━━━━━━━\u001b[0m\u001b[37m\u001b[0m \u001b[1m0s\u001b[0m 62ms/step - accuracy: 0.4284 - loss: 1.2416\n",
      "Epoch 7: ReduceLROnPlateau reducing learning rate to 4.999999873689376e-05.\n",
      "\u001b[1m48/48\u001b[0m \u001b[32m━━━━━━━━━━━━━━━━━━━━\u001b[0m\u001b[37m\u001b[0m \u001b[1m3s\u001b[0m 64ms/step - accuracy: 0.4284 - loss: 1.2417 - val_accuracy: 0.3590 - val_loss: 1.3855 - learning_rate: 1.0000e-04\n",
      "Epoch 8/50\n",
      "\u001b[1m48/48\u001b[0m \u001b[32m━━━━━━━━━━━━━━━━━━━━\u001b[0m\u001b[37m\u001b[0m \u001b[1m3s\u001b[0m 63ms/step - accuracy: 0.4434 - loss: 1.2147 - val_accuracy: 0.3077 - val_loss: 1.3751 - learning_rate: 5.0000e-05\n",
      "Epoch 9/50\n",
      "\u001b[1m48/48\u001b[0m \u001b[32m━━━━━━━━━━━━━━━━━━━━\u001b[0m\u001b[37m\u001b[0m \u001b[1m3s\u001b[0m 64ms/step - accuracy: 0.4966 - loss: 1.1695 - val_accuracy: 0.4103 - val_loss: 1.3576 - learning_rate: 5.0000e-05\n",
      "Epoch 10/50\n",
      "\u001b[1m48/48\u001b[0m \u001b[32m━━━━━━━━━━━━━━━━━━━━\u001b[0m\u001b[37m\u001b[0m \u001b[1m0s\u001b[0m 64ms/step - accuracy: 0.5021 - loss: 1.1303\n",
      "Epoch 10: ReduceLROnPlateau reducing learning rate to 2.499999936844688e-05.\n",
      "\u001b[1m48/48\u001b[0m \u001b[32m━━━━━━━━━━━━━━━━━━━━\u001b[0m\u001b[37m\u001b[0m \u001b[1m3s\u001b[0m 66ms/step - accuracy: 0.5020 - loss: 1.1306 - val_accuracy: 0.3590 - val_loss: 1.3903 - learning_rate: 5.0000e-05\n",
      "Epoch 11/50\n",
      "\u001b[1m48/48\u001b[0m \u001b[32m━━━━━━━━━━━━━━━━━━━━\u001b[0m\u001b[37m\u001b[0m \u001b[1m3s\u001b[0m 66ms/step - accuracy: 0.5186 - loss: 1.1065 - val_accuracy: 0.3590 - val_loss: 1.3885 - learning_rate: 2.5000e-05\n",
      "Epoch 12/50\n",
      "\u001b[1m48/48\u001b[0m \u001b[32m━━━━━━━━━━━━━━━━━━━━\u001b[0m\u001b[37m\u001b[0m \u001b[1m3s\u001b[0m 68ms/step - accuracy: 0.5120 - loss: 1.1045 - val_accuracy: 0.3846 - val_loss: 1.3951 - learning_rate: 2.5000e-05\n",
      "Epoch 13/50\n",
      "\u001b[1m48/48\u001b[0m \u001b[32m━━━━━━━━━━━━━━━━━━━━\u001b[0m\u001b[37m\u001b[0m \u001b[1m0s\u001b[0m 67ms/step - accuracy: 0.5451 - loss: 1.0729\n",
      "Epoch 13: ReduceLROnPlateau reducing learning rate to 1.249999968422344e-05.\n",
      "\u001b[1m48/48\u001b[0m \u001b[32m━━━━━━━━━━━━━━━━━━━━\u001b[0m\u001b[37m\u001b[0m \u001b[1m3s\u001b[0m 69ms/step - accuracy: 0.5450 - loss: 1.0731 - val_accuracy: 0.3590 - val_loss: 1.3930 - learning_rate: 2.5000e-05\n",
      "Epoch 14/50\n",
      "\u001b[1m48/48\u001b[0m \u001b[32m━━━━━━━━━━━━━━━━━━━━\u001b[0m\u001b[37m\u001b[0m \u001b[1m3s\u001b[0m 67ms/step - accuracy: 0.5500 - loss: 1.0660 - val_accuracy: 0.3333 - val_loss: 1.4188 - learning_rate: 1.2500e-05\n",
      "Epoch 14: early stopping\n",
      "Restoring model weights from the end of the best epoch: 4.\n"
     ]
    }
   ],
   "source": [
    "history = model.fit(\n",
    "    X_train_augmented, y_train_augmented,\n",
    "    validation_data=(X_val, y_val),\n",
    "    class_weight=class_weights,\n",
    "    epochs=50,\n",
    "    batch_size=32,\n",
    "    callbacks=[early_stopping, reduce_lr],\n",
    "    verbose=1\n",
    ")"
   ]
  },
  {
   "cell_type": "code",
   "execution_count": 13,
   "id": "b5e5bbc1",
   "metadata": {},
   "outputs": [
    {
     "data": {
      "text/plain": [
       "((1530, 300, 30), (1530,), (39, 300, 30), (39,), (49, 300, 30), (49,))"
      ]
     },
     "execution_count": 13,
     "metadata": {},
     "output_type": "execute_result"
    }
   ],
   "source": [
    "X_train_augmented.shape, y_train_augmented.shape, X_val.shape, y_val.shape, X_test.shape, y_test.shape  "
   ]
  },
  {
   "cell_type": "code",
   "execution_count": 14,
   "id": "f6506e89",
   "metadata": {},
   "outputs": [
    {
     "data": {
      "image/png": "[encoded data removed]",
      "text/plain": [
       "<Figure size 800x500 with 1 Axes>"
      ]
     },
     "metadata": {},
     "output_type": "display_data"
    }
   ],
   "source": [
    "# Graficar accuracy de cada modelo\n",
    "plt.figure(figsize=(8, 5))\n",
    "plt.plot(history.history['accuracy'], label='Train Accuracy')\n",
    "plt.plot(history.history['val_accuracy'], label='Validation Accuracy')\n",
    "plt.title(f'Accuracy vs Val_Accuracy')\n",
    "plt.xlabel('Epochs')\n",
    "plt.ylabel('Accuracy')\n",
    "plt.legend()\n",
    "plt.grid(True)\n",
    "plt.show()"
   ]
  },
  {
   "cell_type": "code",
   "execution_count": 15,
   "id": "ac99c4a6",
   "metadata": {},
   "outputs": [
    {
     "name": "stdout",
     "output_type": "stream",
     "text": [
      "\u001b[1m2/2\u001b[0m \u001b[32m━━━━━━━━━━━━━━━━━━━━\u001b[0m\u001b[37m\u001b[0m \u001b[1m1s\u001b[0m 328ms/step\n"
     ]
    }
   ],
   "source": [
    "# Predicciones individuales de cada modelo\n",
    "# make a summartory of X_val and X_test in a new variable\n",
    "#X_val_test = np.concatenate([X_val, X_test], axis=0)\n",
    "#y_val_test = np.concatenate([y_val, y_test], axis=0)\n",
    "preds = model.predict(X_test)\n",
    "final_preds = np.argmax(preds, axis=1)"
   ]
  },
  {
   "cell_type": "code",
   "execution_count": 16,
   "id": "67da2493",
   "metadata": {},
   "outputs": [
    {
     "data": {
      "image/png": "[encoded data removed]",
      "text/plain": [
       "<Figure size 800x600 with 2 Axes>"
      ]
     },
     "metadata": {},
     "output_type": "display_data"
    }
   ],
   "source": [
    "cm = confusion_matrix(y_test, final_preds)\n",
    "plt.figure(figsize=(8, 6))\n",
    "sns.heatmap(cm, annot=True, fmt=\"d\", cmap=\"Blues\", xticklabels=np.arange(cm.shape[1]), yticklabels=np.arange(cm.shape[0]))\n",
    "plt.title(\"Matriz de Confusión\")\n",
    "plt.xlabel(\"Etiqueta Predicha\")\n",
    "plt.ylabel(\"Etiqueta Real\")\n",
    "plt.show()"
   ]
  },
  {
   "cell_type": "code",
   "execution_count": 17,
   "id": "15224927",
   "metadata": {},
   "outputs": [
    {
     "name": "stdout",
     "output_type": "stream",
     "text": [
      "              precision    recall  f1-score   support\n",
      "\n",
      "           0      0.267     0.333     0.296        12\n",
      "           1      0.000     0.000     0.000        12\n",
      "           2      0.294     0.769     0.426        13\n",
      "           3      0.000     0.000     0.000        12\n",
      "\n",
      "    accuracy                          0.286        49\n",
      "   macro avg      0.140     0.276     0.180        49\n",
      "weighted avg      0.143     0.286     0.185        49\n",
      "\n"
     ]
    },
    {
     "name": "stderr",
     "output_type": "stream",
     "text": [
      "d:\\OneDrive - Universidad Peruana de Ciencias\\Documents\\Carrera\\2025-1\\TP1\\videito\\env\\Lib\\site-packages\\sklearn\\metrics\\_classification.py:1565: UndefinedMetricWarning: Precision is ill-defined and being set to 0.0 in labels with no predicted samples. Use `zero_division` parameter to control this behavior.\n",
      "  _warn_prf(average, modifier, f\"{metric.capitalize()} is\", len(result))\n",
      "d:\\OneDrive - Universidad Peruana de Ciencias\\Documents\\Carrera\\2025-1\\TP1\\videito\\env\\Lib\\site-packages\\sklearn\\metrics\\_classification.py:1565: UndefinedMetricWarning: Precision is ill-defined and being set to 0.0 in labels with no predicted samples. Use `zero_division` parameter to control this behavior.\n",
      "  _warn_prf(average, modifier, f\"{metric.capitalize()} is\", len(result))\n",
      "d:\\OneDrive - Universidad Peruana de Ciencias\\Documents\\Carrera\\2025-1\\TP1\\videito\\env\\Lib\\site-packages\\sklearn\\metrics\\_classification.py:1565: UndefinedMetricWarning: Precision is ill-defined and being set to 0.0 in labels with no predicted samples. Use `zero_division` parameter to control this behavior.\n",
      "  _warn_prf(average, modifier, f\"{metric.capitalize()} is\", len(result))\n"
     ]
    }
   ],
   "source": [
    "# view classification report\n",
    "print(classification_report(y_test, final_preds, digits=3))"
   ]
  },
  {
   "cell_type": "code",
   "execution_count": 1,
   "id": "d246ab28",
   "metadata": {},
   "outputs": [
    {
     "ename": "NameError",
     "evalue": "name 'model' is not defined",
     "output_type": "error",
     "traceback": [
      "\u001b[31m---------------------------------------------------------------------------\u001b[39m",
      "\u001b[31mNameError\u001b[39m                                 Traceback (most recent call last)",
      "\u001b[36mCell\u001b[39m\u001b[36m \u001b[39m\u001b[32mIn[1]\u001b[39m\u001b[32m, line 2\u001b[39m\n\u001b[32m      1\u001b[39m \u001b[38;5;66;03m# Save the model\u001b[39;00m\n\u001b[32m----> \u001b[39m\u001b[32m2\u001b[39m \u001b[43mmodel\u001b[49m.save(\u001b[33m'\u001b[39m\u001b[33m../save_model/TCN_38.h5\u001b[39m\u001b[33m'\u001b[39m)\n\u001b[32m      3\u001b[39m \u001b[38;5;66;03m# Save the history\u001b[39;00m\n\u001b[32m      4\u001b[39m \u001b[38;5;28;01mwith\u001b[39;00m \u001b[38;5;28mopen\u001b[39m(\u001b[33m'\u001b[39m\u001b[33m../save_model/history_TCN_38.pkl\u001b[39m\u001b[33m'\u001b[39m, \u001b[33m'\u001b[39m\u001b[33mwb\u001b[39m\u001b[33m'\u001b[39m) \u001b[38;5;28;01mas\u001b[39;00m f:\n",
      "\u001b[31mNameError\u001b[39m: name 'model' is not defined"
     ]
    }
   ],
   "source": [
    "# Save the model\n",
    "model.save('../save_model/TCN_38.h5')\n",
    "# Save the history\n",
    "with open('../save_model/history_TCN_38.pkl', 'wb') as f:\n",
    "    pickle.dump(history.history, f)"
   ]
  }
 ],
 "metadata": {
  "kernelspec": {
   "display_name": "env",
   "language": "python",
   "name": "python3"
  },
  "language_info": {
   "codemirror_mode": {
    "name": "ipython",
    "version": 3
   },
   "file_extension": ".py",
   "mimetype": "text/x-python",
   "name": "python",
   "nbconvert_exporter": "python",
   "pygments_lexer": "ipython3",
   "version": "3.11.5"
  }
 },
 "nbformat": 4,
 "nbformat_minor": 5
}
