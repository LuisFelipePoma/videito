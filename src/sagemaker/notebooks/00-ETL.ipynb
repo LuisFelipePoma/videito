{
 "cells": [
  {
   "cell_type": "code",
   "execution_count": 1,
   "id": "fcc78234",
   "metadata": {},
   "outputs": [],
   "source": [
    "import os\n",
    "# Set up directories\n",
    "base_dir = \"../\"\n",
    "# Set paths\n",
    "zip_path = os.path.join(base_dir, \"DAiSEE.zip\")\n",
    "extract_path = base_dir"
   ]
  },
  {
   "cell_type": "code",
   "execution_count": 3,
   "id": "b1e03e69",
   "metadata": {},
   "outputs": [
    {
     "name": "stdout",
     "output_type": "stream",
     "text": [
      "Downloading from Google Drive: https://drive.google.com/uc?id=1yrk_wyhZ-c7q0Mcyyi888ylFkl_JDELi\n"
     ]
    },
    {
     "name": "stderr",
     "output_type": "stream",
     "text": [
      "Downloading...\n",
      "From (original): https://drive.google.com/uc?id=1yrk_wyhZ-c7q0Mcyyi888ylFkl_JDELi\n",
      "From (redirected): https://drive.google.com/uc?id=1yrk_wyhZ-c7q0Mcyyi888ylFkl_JDELi&confirm=t&uuid=e00d1077-d95e-4478-af1a-ca6eccd07fda\n",
      "To: /home/pepe/code/videito/src/sagemaker/DAiSEE.zip\n",
      "100%|██████████| 15.3G/15.3G [10:17<00:00, 24.8MB/s] "
     ]
    },
    {
     "name": "stdout",
     "output_type": "stream",
     "text": [
      "Download complete. Extracting...\n"
     ]
    },
    {
     "name": "stderr",
     "output_type": "stream",
     "text": [
      "\n"
     ]
    }
   ],
   "source": [
    "# Use gdown to download from Google Drive\n",
    "import gdown\n",
    "\n",
    "\n",
    "def download_from_gdrive(file_id, output_path):\n",
    "    \"\"\"Download a file from Google Drive using its ID\"\"\"\n",
    "    if os.path.exists(output_path):\n",
    "        print(f\"File already exists: {output_path}\")\n",
    "        return True\n",
    "\n",
    "    url = f\"https://drive.google.com/uc?id={file_id}\"\n",
    "    print(f\"Downloading from Google Drive: {url}\")\n",
    "\n",
    "    try:\n",
    "        gdown.download(url, output_path, quiet=False)\n",
    "        return True\n",
    "    except Exception as e:\n",
    "        print(f\"Error downloading: {e}\")\n",
    "        return False\n",
    "\n",
    "\n",
    "# Google Drive ID for DAiSEE dataset\n",
    "gdrive_id = \"1yrk_wyhZ-c7q0Mcyyi888ylFkl_JDELi\"\n",
    "\n",
    "# Download and extract\n",
    "if download_from_gdrive(gdrive_id, zip_path):\n",
    "    print(\"Download complete. Extracting...\")\n",
    "else:\n",
    "    print(\"Failed to download the dataset.\")"
   ]
  },
  {
   "cell_type": "code",
   "execution_count": 4,
   "id": "a0e1e944",
   "metadata": {},
   "outputs": [
    {
     "name": "stdout",
     "output_type": "stream",
     "text": [
      "Extracting ../DAiSEE.zip to ../\n"
     ]
    },
    {
     "name": "stdout",
     "output_type": "stream",
     "text": [
      "❌ Corrupted zip file: DAiSEE/DataSet/Train/210055/2100552061/2100552061.avi\n",
      "Extraction complete (with possible skipped files).\n"
     ]
    }
   ],
   "source": [
    "import zipfile\n",
    "import os\n",
    "\n",
    "if os.path.exists(zip_path):\n",
    "    print(f\"Extracting {zip_path} to {extract_path}\")\n",
    "    with zipfile.ZipFile(zip_path, 'r') as zip_ref:\n",
    "        for member in zip_ref.infolist():\n",
    "            try:\n",
    "                zip_ref.extract(member, extract_path)\n",
    "            except zipfile.BadZipFile:\n",
    "                print(f\"❌ Corrupted zip file: {member.filename}\")\n",
    "            except RuntimeError as e:\n",
    "                # Handle CRC errors\n",
    "                if \"CRC check failed\" in str(e) or \"Bad CRC-32\" in str(e):\n",
    "                    print(f\"⚠️ CRC error, skipping: {member.filename}\")\n",
    "                else:\n",
    "                    raise\n",
    "    print(\"Extraction complete (with possible skipped files).\")"
   ]
  },
  {
   "cell_type": "code",
   "execution_count": 5,
   "id": "3ec0c974",
   "metadata": {},
   "outputs": [
    {
     "name": "stdout",
     "output_type": "stream",
     "text": [
      "Removed: ../DAiSEE/README.txt\n",
      "Removed: ../DAiSEE/hog.py\n",
      "Removed: ../DAiSEE/extractFrames.py\n",
      "Removed: ../DAiSEE/DataSet/Test.txt\n",
      "Removed: ../DAiSEE/DataSet/Train.txt\n",
      "Removed: ../DAiSEE/DataSet/Validation.txt\n"
     ]
    }
   ],
   "source": [
    "# Remove useless files\n",
    "useless_files = [\n",
    "    os.path.join(extract_path, \"DAiSEE/README.txt\"),\n",
    "    os.path.join(extract_path, \"DAiSEE/hog.py\"),\n",
    "    os.path.join(extract_path, \"DAiSEE/extractFrames.py\"),\n",
    "    os.path.join(extract_path, \"DAiSEE/DataSet/Test.txt\"),\n",
    "    os.path.join(extract_path, \"DAiSEE/DataSet/Train.txt\"),\n",
    "    os.path.join(extract_path, \"DAiSEE/DataSet/Validation.txt\"),\n",
    "]\n",
    "\n",
    "\n",
    "for file in useless_files:\n",
    "    if os.path.exists(file):\n",
    "        os.remove(file)\n",
    "        print(f\"Removed: {file}\")\n",
    "    else:\n",
    "        print(f\"File not found, skipping: {file}\")"
   ]
  }
 ],
 "metadata": {
  "kernelspec": {
   "display_name": "tf",
   "language": "python",
   "name": "python3"
  },
  "language_info": {
   "codemirror_mode": {
    "name": "ipython",
    "version": 3
   },
   "file_extension": ".py",
   "mimetype": "text/x-python",
   "name": "python",
   "nbconvert_exporter": "python",
   "pygments_lexer": "ipython3",
   "version": "3.10.16"
  }
 },
 "nbformat": 4,
 "nbformat_minor": 5
}
