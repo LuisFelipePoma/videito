{
 "cells": [
  {
   "cell_type": "code",
   "execution_count": 1,
   "id": "fcc78234",
   "metadata": {},
   "outputs": [],
   "source": [
    "import os\n",
    "import zipfile\n",
    "import os\n",
    "# Set up directories\n",
    "base_dir = \"../\"\n",
    "# Set paths\n",
    "zip_path = os.path.join(base_dir, \"DAiSEE\")\n",
    "extract_path = base_dir"
   ]
  },
  {
   "cell_type": "code",
   "execution_count": null,
   "id": "b1e03e69",
   "metadata": {},
   "outputs": [
    {
     "name": "stdout",
     "output_type": "stream",
     "text": [
      "File already exists: ../DAiSEE.zip\n",
      "Error during extraction: Bad CRC-32 for file 'DAiSEE/DataSet/Train/210055/2100552061/2100552061.avi'\n"
     ]
    }
   ],
   "source": [
    "# Use gdown to download from Google Drive\n",
    "import gdown\n",
    "\n",
    "\n",
    "def download_from_gdrive(file_id, output_path):\n",
    "    \"\"\"Download a file from Google Drive using its ID\"\"\"\n",
    "    if os.path.exists(output_path):\n",
    "        print(f\"File already exists: {output_path}\")\n",
    "        return True\n",
    "\n",
    "    url = f\"https://drive.google.com/uc?id={file_id}\"\n",
    "    print(f\"Downloading from Google Drive: {url}\")\n",
    "\n",
    "    try:\n",
    "        gdown.download(url, output_path, quiet=False)\n",
    "        return True\n",
    "    except Exception as e:\n",
    "        print(f\"Error downloading: {e}\")\n",
    "        return False\n",
    "\n",
    "\n",
    "# Google Drive ID for DAiSEE dataset\n",
    "gdrive_id = \"1yrk_wyhZ-c7q0Mcyyi888ylFkl_JDELi\"\n",
    "\n",
    "# Download and extract\n",
    "if download_from_gdrive(gdrive_id, zip_path):\n",
    "    print(\"Download complete. Extracting...\")\n",
    "else:\n",
    "    print(\"Failed to download the dataset.\")"
   ]
  },
  {
   "cell_type": "code",
   "execution_count": null,
   "id": "a0e1e944",
   "metadata": {},
   "outputs": [],
   "source": [
    "# Extract the zip file yourself - deah"
   ]
  },
  {
   "cell_type": "code",
   "execution_count": 2,
   "id": "3ec0c974",
   "metadata": {},
   "outputs": [
    {
     "name": "stdout",
     "output_type": "stream",
     "text": [
      "Removed: ../DAiSEE/README.txt\n",
      "Removed: ../DAiSEE/hog.py\n",
      "Removed: ../DAiSEE/extractFrames.py\n",
      "Removed: ../DAiSEE/DataSet/Test.txt\n",
      "Removed: ../DAiSEE/DataSet/Train.txt\n",
      "Removed: ../DAiSEE/DataSet/Validation.txt\n"
     ]
    }
   ],
   "source": [
    "# Remove useless files\n",
    "useless_files = [\n",
    "    os.path.join(extract_path, \"DAiSEE/README.txt\"),\n",
    "    os.path.join(extract_path, \"DAiSEE/hog.py\"),\n",
    "    os.path.join(extract_path, \"DAiSEE/extractFrames.py\"),\n",
    "    os.path.join(extract_path, \"DAiSEE/DataSet/Test.txt\"),\n",
    "    os.path.join(extract_path, \"DAiSEE/DataSet/Train.txt\"),\n",
    "    os.path.join(extract_path, \"DAiSEE/DataSet/Validation.txt\"),\n",
    "]\n",
    "\n",
    "\n",
    "for file in useless_files:\n",
    "    if os.path.exists(file):\n",
    "        os.remove(file)\n",
    "        print(f\"Removed: {file}\")\n",
    "    else:\n",
    "        print(f\"File not found, skipping: {file}\")"
   ]
  }
 ],
 "metadata": {
  "kernelspec": {
   "display_name": ".env",
   "language": "python",
   "name": "python3"
  },
  "language_info": {
   "codemirror_mode": {
    "name": "ipython",
    "version": 3
   },
   "file_extension": ".py",
   "mimetype": "text/x-python",
   "name": "python",
   "nbconvert_exporter": "python",
   "pygments_lexer": "ipython3",
   "version": "3.11.0"
  }
 },
 "nbformat": 4,
 "nbformat_minor": 5
}
