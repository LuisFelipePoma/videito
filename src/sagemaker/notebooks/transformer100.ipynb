{
 "cells": [
  {
   "cell_type": "code",
   "execution_count": null,
   "id": "b77ff52f",
   "metadata": {},
   "outputs": [
    {
     "ename": "ImportError",
     "evalue": "cannot import name 'GlobalAveragePooling1D' from 'tensorflow.keras.callbacks' (d:\\OneDrive - Universidad Peruana de Ciencias\\Documents\\Carrera\\2025-1\\TP1\\videito\\env\\Lib\\site-packages\\keras\\_tf_keras\\keras\\callbacks\\__init__.py)",
     "output_type": "error",
     "traceback": [
      "\u001b[31m---------------------------------------------------------------------------\u001b[39m",
      "\u001b[31mImportError\u001b[39m                               Traceback (most recent call last)",
      "\u001b[36mCell\u001b[39m\u001b[36m \u001b[39m\u001b[32mIn[18]\u001b[39m\u001b[32m, line 15\u001b[39m\n\u001b[32m     13\u001b[39m \u001b[38;5;28;01mfrom\u001b[39;00m\u001b[38;5;250m \u001b[39m\u001b[34;01mtensorflow\u001b[39;00m\u001b[34;01m.\u001b[39;00m\u001b[34;01mkeras\u001b[39;00m\u001b[34;01m.\u001b[39;00m\u001b[34;01mmodels\u001b[39;00m\u001b[38;5;250m \u001b[39m\u001b[38;5;28;01mimport\u001b[39;00m Model\n\u001b[32m     14\u001b[39m \u001b[38;5;28;01mfrom\u001b[39;00m\u001b[38;5;250m \u001b[39m\u001b[34;01mtensorflow\u001b[39;00m\u001b[34;01m.\u001b[39;00m\u001b[34;01mkeras\u001b[39;00m\u001b[34;01m.\u001b[39;00m\u001b[34;01mlayers\u001b[39;00m\u001b[38;5;250m \u001b[39m\u001b[38;5;28;01mimport\u001b[39;00m Input, Dense, Dropout, BatchNormalization\n\u001b[32m---> \u001b[39m\u001b[32m15\u001b[39m \u001b[38;5;28;01mfrom\u001b[39;00m\u001b[38;5;250m \u001b[39m\u001b[34;01mtensorflow\u001b[39;00m\u001b[34;01m.\u001b[39;00m\u001b[34;01mkeras\u001b[39;00m\u001b[34;01m.\u001b[39;00m\u001b[34;01mcallbacks\u001b[39;00m\u001b[38;5;250m \u001b[39m\u001b[38;5;28;01mimport\u001b[39;00m ModelCheckpoint, EarlyStopping, ReduceLROnPlateau, GlobalAveragePooling1D, MultiHeadAttention, Add, Embedding\n\u001b[32m     16\u001b[39m \u001b[38;5;28;01mfrom\u001b[39;00m\u001b[38;5;250m \u001b[39m\u001b[34;01mtensorflow\u001b[39;00m\u001b[34;01m.\u001b[39;00m\u001b[34;01mkeras\u001b[39;00m\u001b[34;01m.\u001b[39;00m\u001b[34;01moptimizers\u001b[39;00m\u001b[38;5;250m \u001b[39m\u001b[38;5;28;01mimport\u001b[39;00m Adam\n\u001b[32m     17\u001b[39m \u001b[38;5;28;01mimport\u001b[39;00m\u001b[38;5;250m \u001b[39m\u001b[34;01mtensorflow\u001b[39;00m\u001b[34;01m.\u001b[39;00m\u001b[34;01mkeras\u001b[39;00m\u001b[34;01m.\u001b[39;00m\u001b[34;01mbackend\u001b[39;00m\u001b[38;5;250m \u001b[39m\u001b[38;5;28;01mas\u001b[39;00m\u001b[38;5;250m \u001b[39m\u001b[34;01mK\u001b[39;00m\n",
      "\u001b[31mImportError\u001b[39m: cannot import name 'GlobalAveragePooling1D' from 'tensorflow.keras.callbacks' (d:\\OneDrive - Universidad Peruana de Ciencias\\Documents\\Carrera\\2025-1\\TP1\\videito\\env\\Lib\\site-packages\\keras\\_tf_keras\\keras\\callbacks\\__init__.py)"
     ]
    }
   ],
   "source": [
    "# Import libraries\n",
    "import numpy as np\n",
    "import tensorflow as tf\n",
    "import pandas as pd\n",
    "from pathlib import Path\n",
    "from tqdm import tqdm\n",
    "import os\n",
    "import matplotlib.pyplot as plt\n",
    "from sklearn.model_selection import train_test_split\n",
    "from sklearn.metrics import confusion_matrix, ConfusionMatrixDisplay\n",
    "from sklearn.utils import class_weight\n",
    "from tensorflow.keras import layers, models\n",
    "from tensorflow.keras.models import Model\n",
    "from tensorflow.keras.layers import Input, Dense, Dropout, BatchNormalization\n",
    "from tensorflow.keras.callbacks import ModelCheckpoint, EarlyStopping, ReduceLROnPlateau\n",
    "from tensorflow.keras.optimizers import Adam\n",
    "import tensorflow.keras.backend as K\n",
    "from tensorflow.keras.metrics import AUC, Precision, Recall\n",
    "import pickle\n",
    "from sklearn.metrics import precision_recall_curve, f1_score, classification_report\n",
    "import matplotlib.pyplot as plt\n",
    "import numpy as np\n",
    "import seaborn as sns"
   ]
  },
  {
   "cell_type": "code",
   "execution_count": 7,
   "id": "4010dac4",
   "metadata": {},
   "outputs": [
    {
     "data": {
      "text/plain": [
       "((241, 300, 30), (241,))"
      ]
     },
     "execution_count": 7,
     "metadata": {},
     "output_type": "execute_result"
    }
   ],
   "source": [
    "# Charge X and y data that are in .npy format\n",
    "X = np.load('../save_model/X.npy')\n",
    "y = np.load('../save_model/y.npy')\n",
    "X.shape, y.shape"
   ]
  },
  {
   "cell_type": "code",
   "execution_count": null,
   "id": "2a08d7fc",
   "metadata": {},
   "outputs": [],
   "source": [
    "def augment_sequence(x, noise_std=0.01, max_shift=5, scale_range=(0.9, 1.1), window_size=10):\n",
    "    \"\"\"\n",
    "    Aplica aumento de datos a una secuencia individual de forma (300, 30)\n",
    "    \"\"\"\n",
    "    # 1. Agregar ruido gaussiano\n",
    "    noise = np.random.normal(0, noise_std, x.shape)\n",
    "    x_aug = x + noise\n",
    "\n",
    "    # 2. Desplazamiento temporal (shift)\n",
    "    shift = np.random.randint(-max_shift, max_shift + 1)\n",
    "    x_aug = np.roll(x_aug, shift, axis=0)\n",
    "\n",
    "    # 3. Escalado\n",
    "    scale = np.random.uniform(scale_range[0], scale_range[1])\n",
    "    x_aug = x_aug * scale\n",
    "\n",
    "    # 4. Permutación de subventanas\n",
    "    num_segments = x.shape[0] // window_size\n",
    "    segments = np.array_split(x_aug[:num_segments * window_size], num_segments, axis=0)\n",
    "    np.random.shuffle(segments)\n",
    "    x_aug = np.concatenate(segments, axis=0)\n",
    "\n",
    "    return x_aug\n",
    "\n",
    "def augment_dataset(X, y, augment_factor=2):\n",
    "    \"\"\"\n",
    "    Aumenta el dataset X, y multiplicando los datos por augment_factor\n",
    "    \"\"\"\n",
    "    X_aug = []\n",
    "    y_aug = []\n",
    "\n",
    "    for i in range(len(X)):\n",
    "        for _ in range(augment_factor):\n",
    "            x_new = augment_sequence(X[i])\n",
    "            X_aug.append(x_new)\n",
    "            y_aug.append(y[i])\n",
    "\n",
    "    X_aug = np.array(X_aug)\n",
    "    y_aug = np.array(y_aug)\n",
    "    \n",
    "    # Mezclamos con los originales si quieres:\n",
    "    X_combined = np.concatenate([X, X_aug], axis=0)\n",
    "    y_combined = np.concatenate([y, y_aug], axis=0)\n",
    "\n",
    "    return X_combined, y_combined"
   ]
  },
  {
   "cell_type": "code",
   "execution_count": null,
   "id": "830f5e1b",
   "metadata": {},
   "outputs": [
    {
     "name": "stdout",
     "output_type": "stream",
     "text": [
      "(1928, 300, 30)\n",
      "(1928,)\n"
     ]
    }
   ],
   "source": [
    "X_augmented, y_augmented = augment_dataset(X, y, augment_factor=7)\n",
    "print(X_augmented.shape)\n",
    "print(y_augmented.shape)"
   ]
  },
  {
   "cell_type": "code",
   "execution_count": null,
   "id": "b8dc3e3a",
   "metadata": {},
   "outputs": [
    {
     "data": {
      "text/plain": [
       "((1233, 300, 30), (309, 300, 30), (386, 300, 30), (1233,), (309,), (386,))"
      ]
     },
     "execution_count": 12,
     "metadata": {},
     "output_type": "execute_result"
    }
   ],
   "source": [
    "# Divide data in train, val and test\n",
    "X_train, X_test, y_train, y_test = train_test_split(X_augmented, y_augmented, test_size=0.2, random_state=42, stratify=y_augmented)\n",
    "X_train, X_val, y_train, y_val = train_test_split(X_train, y_train, test_size=0.2, random_state=42, stratify=y_train)\n",
    "X_train.shape, X_val.shape, X_test.shape, y_train.shape, y_val.shape, y_test.shape"
   ]
  },
  {
   "cell_type": "code",
   "execution_count": 13,
   "id": "6c5e189f",
   "metadata": {},
   "outputs": [],
   "source": [
    "# Calcular pesos automáticamente\n",
    "class_weights = class_weight.compute_class_weight(\n",
    "    class_weight='balanced',\n",
    "    classes=np.unique(y_train),\n",
    "    y=y_train\n",
    ")\n",
    "class_weights = dict(enumerate(class_weights))"
   ]
  },
  {
   "cell_type": "code",
   "execution_count": 21,
   "id": "0a81d83c",
   "metadata": {},
   "outputs": [
    {
     "name": "stdout",
     "output_type": "stream",
     "text": [
      "Epoch 1/50\n",
      "\u001b[1m39/39\u001b[0m \u001b[32m━━━━━━━━━━━━━━━━━━━━\u001b[0m\u001b[37m\u001b[0m \u001b[1m34s\u001b[0m 669ms/step - accuracy: 0.2543 - loss: 1.4022 - val_accuracy: 0.4013 - val_loss: 1.3387 - learning_rate: 1.0000e-04\n",
      "Epoch 2/50\n",
      "\u001b[1m39/39\u001b[0m \u001b[32m━━━━━━━━━━━━━━━━━━━━\u001b[0m\u001b[37m\u001b[0m \u001b[1m26s\u001b[0m 657ms/step - accuracy: 0.3269 - loss: 1.3544 - val_accuracy: 0.4304 - val_loss: 1.3028 - learning_rate: 1.0000e-04\n",
      "Epoch 3/50\n",
      "\u001b[1m39/39\u001b[0m \u001b[32m━━━━━━━━━━━━━━━━━━━━\u001b[0m\u001b[37m\u001b[0m \u001b[1m25s\u001b[0m 643ms/step - accuracy: 0.3819 - loss: 1.3116 - val_accuracy: 0.4175 - val_loss: 1.2560 - learning_rate: 1.0000e-04\n",
      "Epoch 4/50\n",
      "\u001b[1m39/39\u001b[0m \u001b[32m━━━━━━━━━━━━━━━━━━━━\u001b[0m\u001b[37m\u001b[0m \u001b[1m25s\u001b[0m 641ms/step - accuracy: 0.4112 - loss: 1.2708 - val_accuracy: 0.4822 - val_loss: 1.2001 - learning_rate: 1.0000e-04\n",
      "Epoch 5/50\n",
      "\u001b[1m39/39\u001b[0m \u001b[32m━━━━━━━━━━━━━━━━━━━━\u001b[0m\u001b[37m\u001b[0m \u001b[1m25s\u001b[0m 645ms/step - accuracy: 0.5028 - loss: 1.1996 - val_accuracy: 0.5049 - val_loss: 1.1463 - learning_rate: 1.0000e-04\n",
      "Epoch 6/50\n",
      "\u001b[1m39/39\u001b[0m \u001b[32m━━━━━━━━━━━━━━━━━━━━\u001b[0m\u001b[37m\u001b[0m \u001b[1m26s\u001b[0m 670ms/step - accuracy: 0.5113 - loss: 1.1691 - val_accuracy: 0.5437 - val_loss: 1.0956 - learning_rate: 1.0000e-04\n",
      "Epoch 7/50\n",
      "\u001b[1m39/39\u001b[0m \u001b[32m━━━━━━━━━━━━━━━━━━━━\u001b[0m\u001b[37m\u001b[0m \u001b[1m25s\u001b[0m 641ms/step - accuracy: 0.5067 - loss: 1.1155 - val_accuracy: 0.5825 - val_loss: 1.0349 - learning_rate: 1.0000e-04\n",
      "Epoch 8/50\n",
      "\u001b[1m39/39\u001b[0m \u001b[32m━━━━━━━━━━━━━━━━━━━━\u001b[0m\u001b[37m\u001b[0m \u001b[1m25s\u001b[0m 635ms/step - accuracy: 0.5612 - loss: 1.0597 - val_accuracy: 0.6052 - val_loss: 0.9837 - learning_rate: 1.0000e-04\n",
      "Epoch 9/50\n",
      "\u001b[1m39/39\u001b[0m \u001b[32m━━━━━━━━━━━━━━━━━━━━\u001b[0m\u001b[37m\u001b[0m \u001b[1m25s\u001b[0m 633ms/step - accuracy: 0.6014 - loss: 0.9834 - val_accuracy: 0.5890 - val_loss: 0.9422 - learning_rate: 1.0000e-04\n",
      "Epoch 10/50\n",
      "\u001b[1m39/39\u001b[0m \u001b[32m━━━━━━━━━━━━━━━━━━━━\u001b[0m\u001b[37m\u001b[0m \u001b[1m25s\u001b[0m 634ms/step - accuracy: 0.6221 - loss: 0.9291 - val_accuracy: 0.6214 - val_loss: 0.8837 - learning_rate: 1.0000e-04\n",
      "Epoch 11/50\n",
      "\u001b[1m39/39\u001b[0m \u001b[32m━━━━━━━━━━━━━━━━━━━━\u001b[0m\u001b[37m\u001b[0m \u001b[1m25s\u001b[0m 636ms/step - accuracy: 0.6387 - loss: 0.8555 - val_accuracy: 0.6505 - val_loss: 0.7875 - learning_rate: 1.0000e-04\n",
      "Epoch 12/50\n",
      "\u001b[1m39/39\u001b[0m \u001b[32m━━━━━━━━━━━━━━━━━━━━\u001b[0m\u001b[37m\u001b[0m \u001b[1m25s\u001b[0m 635ms/step - accuracy: 0.6845 - loss: 0.7810 - val_accuracy: 0.7087 - val_loss: 0.7181 - learning_rate: 1.0000e-04\n",
      "Epoch 13/50\n",
      "\u001b[1m39/39\u001b[0m \u001b[32m━━━━━━━━━━━━━━━━━━━━\u001b[0m\u001b[37m\u001b[0m \u001b[1m25s\u001b[0m 633ms/step - accuracy: 0.7335 - loss: 0.7218 - val_accuracy: 0.7087 - val_loss: 0.6702 - learning_rate: 1.0000e-04\n",
      "Epoch 14/50\n",
      "\u001b[1m39/39\u001b[0m \u001b[32m━━━━━━━━━━━━━━━━━━━━\u001b[0m\u001b[37m\u001b[0m \u001b[1m25s\u001b[0m 637ms/step - accuracy: 0.7702 - loss: 0.6612 - val_accuracy: 0.7573 - val_loss: 0.6040 - learning_rate: 1.0000e-04\n",
      "Epoch 15/50\n",
      "\u001b[1m39/39\u001b[0m \u001b[32m━━━━━━━━━━━━━━━━━━━━\u001b[0m\u001b[37m\u001b[0m \u001b[1m25s\u001b[0m 634ms/step - accuracy: 0.7854 - loss: 0.6001 - val_accuracy: 0.7929 - val_loss: 0.5388 - learning_rate: 1.0000e-04\n",
      "Epoch 16/50\n",
      "\u001b[1m39/39\u001b[0m \u001b[32m━━━━━━━━━━━━━━━━━━━━\u001b[0m\u001b[37m\u001b[0m \u001b[1m25s\u001b[0m 635ms/step - accuracy: 0.8178 - loss: 0.5341 - val_accuracy: 0.8252 - val_loss: 0.5010 - learning_rate: 1.0000e-04\n",
      "Epoch 17/50\n",
      "\u001b[1m39/39\u001b[0m \u001b[32m━━━━━━━━━━━━━━━━━━━━\u001b[0m\u001b[37m\u001b[0m \u001b[1m25s\u001b[0m 641ms/step - accuracy: 0.8304 - loss: 0.4961 - val_accuracy: 0.8576 - val_loss: 0.4495 - learning_rate: 1.0000e-04\n",
      "Epoch 18/50\n",
      "\u001b[1m39/39\u001b[0m \u001b[32m━━━━━━━━━━━━━━━━━━━━\u001b[0m\u001b[37m\u001b[0m \u001b[1m25s\u001b[0m 638ms/step - accuracy: 0.8511 - loss: 0.4484 - val_accuracy: 0.8738 - val_loss: 0.4156 - learning_rate: 1.0000e-04\n",
      "Epoch 19/50\n",
      "\u001b[1m39/39\u001b[0m \u001b[32m━━━━━━━━━━━━━━━━━━━━\u001b[0m\u001b[37m\u001b[0m \u001b[1m25s\u001b[0m 634ms/step - accuracy: 0.8939 - loss: 0.3665 - val_accuracy: 0.8608 - val_loss: 0.3914 - learning_rate: 1.0000e-04\n",
      "Epoch 20/50\n",
      "\u001b[1m39/39\u001b[0m \u001b[32m━━━━━━━━━━━━━━━━━━━━\u001b[0m\u001b[37m\u001b[0m \u001b[1m25s\u001b[0m 644ms/step - accuracy: 0.8862 - loss: 0.3473 - val_accuracy: 0.8900 - val_loss: 0.3412 - learning_rate: 1.0000e-04\n",
      "Epoch 21/50\n",
      "\u001b[1m39/39\u001b[0m \u001b[32m━━━━━━━━━━━━━━━━━━━━\u001b[0m\u001b[37m\u001b[0m \u001b[1m25s\u001b[0m 637ms/step - accuracy: 0.9140 - loss: 0.3071 - val_accuracy: 0.8867 - val_loss: 0.3169 - learning_rate: 1.0000e-04\n",
      "Epoch 22/50\n",
      "\u001b[1m39/39\u001b[0m \u001b[32m━━━━━━━━━━━━━━━━━━━━\u001b[0m\u001b[37m\u001b[0m \u001b[1m25s\u001b[0m 635ms/step - accuracy: 0.9158 - loss: 0.2782 - val_accuracy: 0.8770 - val_loss: 0.3009 - learning_rate: 1.0000e-04\n",
      "Epoch 23/50\n",
      "\u001b[1m39/39\u001b[0m \u001b[32m━━━━━━━━━━━━━━━━━━━━\u001b[0m\u001b[37m\u001b[0m \u001b[1m25s\u001b[0m 636ms/step - accuracy: 0.9257 - loss: 0.2523 - val_accuracy: 0.8997 - val_loss: 0.2449 - learning_rate: 1.0000e-04\n",
      "Epoch 24/50\n",
      "\u001b[1m39/39\u001b[0m \u001b[32m━━━━━━━━━━━━━━━━━━━━\u001b[0m\u001b[37m\u001b[0m \u001b[1m25s\u001b[0m 635ms/step - accuracy: 0.9504 - loss: 0.2077 - val_accuracy: 0.9256 - val_loss: 0.2217 - learning_rate: 1.0000e-04\n",
      "Epoch 25/50\n",
      "\u001b[1m39/39\u001b[0m \u001b[32m━━━━━━━━━━━━━━━━━━━━\u001b[0m\u001b[37m\u001b[0m \u001b[1m25s\u001b[0m 635ms/step - accuracy: 0.9605 - loss: 0.1827 - val_accuracy: 0.9288 - val_loss: 0.1884 - learning_rate: 1.0000e-04\n",
      "Epoch 26/50\n",
      "\u001b[1m39/39\u001b[0m \u001b[32m━━━━━━━━━━━━━━━━━━━━\u001b[0m\u001b[37m\u001b[0m \u001b[1m25s\u001b[0m 635ms/step - accuracy: 0.9597 - loss: 0.1761 - val_accuracy: 0.9320 - val_loss: 0.1694 - learning_rate: 1.0000e-04\n",
      "Epoch 27/50\n",
      "\u001b[1m39/39\u001b[0m \u001b[32m━━━━━━━━━━━━━━━━━━━━\u001b[0m\u001b[37m\u001b[0m \u001b[1m25s\u001b[0m 636ms/step - accuracy: 0.9523 - loss: 0.1760 - val_accuracy: 0.9450 - val_loss: 0.1683 - learning_rate: 1.0000e-04\n",
      "Epoch 28/50\n",
      "\u001b[1m39/39\u001b[0m \u001b[32m━━━━━━━━━━━━━━━━━━━━\u001b[0m\u001b[37m\u001b[0m \u001b[1m25s\u001b[0m 637ms/step - accuracy: 0.9653 - loss: 0.1323 - val_accuracy: 0.9709 - val_loss: 0.1269 - learning_rate: 1.0000e-04\n",
      "Epoch 29/50\n",
      "\u001b[1m39/39\u001b[0m \u001b[32m━━━━━━━━━━━━━━━━━━━━\u001b[0m\u001b[37m\u001b[0m \u001b[1m25s\u001b[0m 634ms/step - accuracy: 0.9799 - loss: 0.1066 - val_accuracy: 0.9709 - val_loss: 0.1037 - learning_rate: 1.0000e-04\n",
      "Epoch 30/50\n",
      "\u001b[1m39/39\u001b[0m \u001b[32m━━━━━━━━━━━━━━━━━━━━\u001b[0m\u001b[37m\u001b[0m \u001b[1m25s\u001b[0m 635ms/step - accuracy: 0.9769 - loss: 0.1217 - val_accuracy: 0.9579 - val_loss: 0.1000 - learning_rate: 1.0000e-04\n",
      "Epoch 31/50\n",
      "\u001b[1m39/39\u001b[0m \u001b[32m━━━━━━━━━━━━━━━━━━━━\u001b[0m\u001b[37m\u001b[0m \u001b[1m25s\u001b[0m 634ms/step - accuracy: 0.9901 - loss: 0.0825 - val_accuracy: 0.9806 - val_loss: 0.0760 - learning_rate: 1.0000e-04\n",
      "Epoch 32/50\n",
      "\u001b[1m39/39\u001b[0m \u001b[32m━━━━━━━━━━━━━━━━━━━━\u001b[0m\u001b[37m\u001b[0m \u001b[1m25s\u001b[0m 637ms/step - accuracy: 0.9883 - loss: 0.0681 - val_accuracy: 0.9773 - val_loss: 0.0697 - learning_rate: 1.0000e-04\n",
      "Epoch 33/50\n",
      "\u001b[1m39/39\u001b[0m \u001b[32m━━━━━━━━━━━━━━━━━━━━\u001b[0m\u001b[37m\u001b[0m \u001b[1m25s\u001b[0m 634ms/step - accuracy: 0.9861 - loss: 0.0802 - val_accuracy: 0.9676 - val_loss: 0.0812 - learning_rate: 1.0000e-04\n",
      "Epoch 34/50\n",
      "\u001b[1m39/39\u001b[0m \u001b[32m━━━━━━━━━━━━━━━━━━━━\u001b[0m\u001b[37m\u001b[0m \u001b[1m0s\u001b[0m 585ms/step - accuracy: 0.9868 - loss: 0.0658\n",
      "Epoch 34: ReduceLROnPlateau reducing learning rate to 4.999999873689376e-05.\n",
      "\u001b[1m39/39\u001b[0m \u001b[32m━━━━━━━━━━━━━━━━━━━━\u001b[0m\u001b[37m\u001b[0m \u001b[1m25s\u001b[0m 633ms/step - accuracy: 0.9868 - loss: 0.0658 - val_accuracy: 0.9773 - val_loss: 0.0758 - learning_rate: 1.0000e-04\n",
      "Epoch 35/50\n",
      "\u001b[1m39/39\u001b[0m \u001b[32m━━━━━━━━━━━━━━━━━━━━\u001b[0m\u001b[37m\u001b[0m \u001b[1m25s\u001b[0m 634ms/step - accuracy: 0.9857 - loss: 0.0738 - val_accuracy: 0.9773 - val_loss: 0.0630 - learning_rate: 5.0000e-05\n",
      "Epoch 36/50\n",
      "\u001b[1m39/39\u001b[0m \u001b[32m━━━━━━━━━━━━━━━━━━━━\u001b[0m\u001b[37m\u001b[0m \u001b[1m25s\u001b[0m 637ms/step - accuracy: 0.9892 - loss: 0.0520 - val_accuracy: 0.9903 - val_loss: 0.0371 - learning_rate: 5.0000e-05\n",
      "Epoch 37/50\n",
      "\u001b[1m39/39\u001b[0m \u001b[32m━━━━━━━━━━━━━━━━━━━━\u001b[0m\u001b[37m\u001b[0m \u001b[1m25s\u001b[0m 634ms/step - accuracy: 0.9961 - loss: 0.0451 - val_accuracy: 0.9935 - val_loss: 0.0349 - learning_rate: 5.0000e-05\n",
      "Epoch 38/50\n",
      "\u001b[1m39/39\u001b[0m \u001b[32m━━━━━━━━━━━━━━━━━━━━\u001b[0m\u001b[37m\u001b[0m \u001b[1m25s\u001b[0m 634ms/step - accuracy: 0.9959 - loss: 0.0425 - val_accuracy: 1.0000 - val_loss: 0.0257 - learning_rate: 5.0000e-05\n",
      "Epoch 39/50\n",
      "\u001b[1m39/39\u001b[0m \u001b[32m━━━━━━━━━━━━━━━━━━━━\u001b[0m\u001b[37m\u001b[0m \u001b[1m25s\u001b[0m 634ms/step - accuracy: 0.9970 - loss: 0.0402 - val_accuracy: 0.9935 - val_loss: 0.0244 - learning_rate: 5.0000e-05\n",
      "Epoch 40/50\n",
      "\u001b[1m39/39\u001b[0m \u001b[32m━━━━━━━━━━━━━━━━━━━━\u001b[0m\u001b[37m\u001b[0m \u001b[1m25s\u001b[0m 634ms/step - accuracy: 0.9912 - loss: 0.0430 - val_accuracy: 0.9903 - val_loss: 0.0241 - learning_rate: 5.0000e-05\n",
      "Epoch 41/50\n",
      "\u001b[1m39/39\u001b[0m \u001b[32m━━━━━━━━━━━━━━━━━━━━\u001b[0m\u001b[37m\u001b[0m \u001b[1m25s\u001b[0m 634ms/step - accuracy: 0.9975 - loss: 0.0300 - val_accuracy: 0.9935 - val_loss: 0.0221 - learning_rate: 5.0000e-05\n",
      "Epoch 42/50\n",
      "\u001b[1m39/39\u001b[0m \u001b[32m━━━━━━━━━━━━━━━━━━━━\u001b[0m\u001b[37m\u001b[0m \u001b[1m25s\u001b[0m 634ms/step - accuracy: 0.9973 - loss: 0.0288 - val_accuracy: 0.9935 - val_loss: 0.0243 - learning_rate: 5.0000e-05\n",
      "Epoch 43/50\n",
      "\u001b[1m39/39\u001b[0m \u001b[32m━━━━━━━━━━━━━━━━━━━━\u001b[0m\u001b[37m\u001b[0m \u001b[1m25s\u001b[0m 639ms/step - accuracy: 0.9938 - loss: 0.0345 - val_accuracy: 1.0000 - val_loss: 0.0162 - learning_rate: 5.0000e-05\n",
      "Epoch 44/50\n",
      "\u001b[1m39/39\u001b[0m \u001b[32m━━━━━━━━━━━━━━━━━━━━\u001b[0m\u001b[37m\u001b[0m \u001b[1m25s\u001b[0m 637ms/step - accuracy: 0.9995 - loss: 0.0246 - val_accuracy: 1.0000 - val_loss: 0.0140 - learning_rate: 5.0000e-05\n",
      "Epoch 45/50\n",
      "\u001b[1m39/39\u001b[0m \u001b[32m━━━━━━━━━━━━━━━━━━━━\u001b[0m\u001b[37m\u001b[0m \u001b[1m25s\u001b[0m 637ms/step - accuracy: 1.0000 - loss: 0.0254 - val_accuracy: 1.0000 - val_loss: 0.0145 - learning_rate: 5.0000e-05\n",
      "Epoch 46/50\n",
      "\u001b[1m39/39\u001b[0m \u001b[32m━━━━━━━━━━━━━━━━━━━━\u001b[0m\u001b[37m\u001b[0m \u001b[1m25s\u001b[0m 636ms/step - accuracy: 0.9997 - loss: 0.0203 - val_accuracy: 1.0000 - val_loss: 0.0120 - learning_rate: 5.0000e-05\n",
      "Epoch 47/50\n",
      "\u001b[1m39/39\u001b[0m \u001b[32m━━━━━━━━━━━━━━━━━━━━\u001b[0m\u001b[37m\u001b[0m \u001b[1m25s\u001b[0m 636ms/step - accuracy: 0.9969 - loss: 0.0278 - val_accuracy: 0.9773 - val_loss: 0.0437 - learning_rate: 5.0000e-05\n",
      "Epoch 48/50\n",
      "\u001b[1m39/39\u001b[0m \u001b[32m━━━━━━━━━━━━━━━━━━━━\u001b[0m\u001b[37m\u001b[0m \u001b[1m25s\u001b[0m 637ms/step - accuracy: 0.9981 - loss: 0.0266 - val_accuracy: 1.0000 - val_loss: 0.0116 - learning_rate: 5.0000e-05\n",
      "Epoch 49/50\n",
      "\u001b[1m39/39\u001b[0m \u001b[32m━━━━━━━━━━━━━━━━━━━━\u001b[0m\u001b[37m\u001b[0m \u001b[1m25s\u001b[0m 634ms/step - accuracy: 0.9998 - loss: 0.0227 - val_accuracy: 1.0000 - val_loss: 0.0112 - learning_rate: 5.0000e-05\n",
      "Epoch 50/50\n",
      "\u001b[1m39/39\u001b[0m \u001b[32m━━━━━━━━━━━━━━━━━━━━\u001b[0m\u001b[37m\u001b[0m \u001b[1m25s\u001b[0m 634ms/step - accuracy: 0.9994 - loss: 0.0220 - val_accuracy: 1.0000 - val_loss: 0.0089 - learning_rate: 5.0000e-05\n",
      "Restoring model weights from the end of the best epoch: 50.\n"
     ]
    }
   ],
   "source": [
    "from tensorflow.keras.models import Model\n",
    "from tensorflow.keras.layers import Input, Dense, Dropout, LayerNormalization, GlobalAveragePooling1D\n",
    "from tensorflow.keras.layers import MultiHeadAttention, Add, Embedding\n",
    "from tensorflow.keras.optimizers import Adam\n",
    "from tensorflow.keras.callbacks import EarlyStopping, ReduceLROnPlateau\n",
    "import tensorflow as tf\n",
    "\n",
    "early_stopping = EarlyStopping(monitor='val_loss', patience=10, restore_best_weights=True, verbose=1)\n",
    "reduce_lr = ReduceLROnPlateau(monitor='val_loss', factor=0.5, patience=2, verbose=1)\n",
    "\n",
    "# Positional Encoding aprendido\n",
    "class PositionalEncoding(tf.keras.layers.Layer):\n",
    "    def __init__(self, sequence_length, d_model):\n",
    "        super().__init__()\n",
    "        self.pos_embedding = self.add_weight(\n",
    "            name=\"pos_embedding\",\n",
    "            shape=[1, sequence_length, d_model]\n",
    "        )\n",
    "\n",
    "    def call(self, inputs):\n",
    "        return inputs + self.pos_embedding\n",
    "\n",
    "# Transformer Encoder Block\n",
    "def transformer_encoder(inputs, head_size, num_heads, ff_dim, dropout=0.1):\n",
    "    # Multi-Head Self-Attention\n",
    "    x = MultiHeadAttention(key_dim=head_size, num_heads=num_heads, dropout=dropout)(inputs, inputs)\n",
    "    x = Add()([x, inputs])\n",
    "    x = LayerNormalization(epsilon=1e-6)(x)\n",
    "\n",
    "    # Feedforward\n",
    "    ff = Dense(ff_dim, activation=\"relu\")(x)\n",
    "    ff = Dropout(dropout)(ff)\n",
    "    ff = Dense(inputs.shape[-1])(ff)\n",
    "    x = Add()([x, ff])\n",
    "    x = LayerNormalization(epsilon=1e-6)(x)\n",
    "    return x\n",
    "\n",
    "# Modelo completo\n",
    "def build_transformer_model(input_shape, num_layers=4, head_size=64, num_heads=4, ff_dim=128, dropout=0.1):\n",
    "    inputs = Input(shape=input_shape)\n",
    "    \n",
    "    # Positional Encoding\n",
    "    x = PositionalEncoding(input_shape[0], input_shape[1])(inputs)\n",
    "\n",
    "    # Múltiples bloques Transformer\n",
    "    for _ in range(num_layers):\n",
    "        x = transformer_encoder(x, head_size, num_heads, ff_dim, dropout)\n",
    "\n",
    "    x = GlobalAveragePooling1D()(x)\n",
    "    x = Dense(128, activation=\"relu\")(x)\n",
    "    x = Dropout(0.5)(x)\n",
    "    outputs = Dense(4, activation=\"softmax\")(x)\n",
    "\n",
    "    model = Model(inputs, outputs)\n",
    "    model.compile(loss=\"sparse_categorical_crossentropy\", optimizer=Adam(1e-4), metrics=[\"accuracy\"])\n",
    "    return model\n",
    "\n",
    "model = build_transformer_model((X_train.shape[1], X_train.shape[2]))\n",
    "    \n",
    "history = model.fit(\n",
    "    X_train,\n",
    "    y_train,\n",
    "    class_weight=class_weights,\n",
    "    epochs=50,\n",
    "    batch_size=32,\n",
    "    validation_data=(X_val, y_val),\n",
    "    callbacks=[early_stopping, reduce_lr],\n",
    "    verbose=1\n",
    ")"
   ]
  },
  {
   "cell_type": "code",
   "execution_count": 22,
   "id": "f6506e89",
   "metadata": {},
   "outputs": [
    {
     "data": {
      "image/png": "[encoded data removed]",
      "text/plain": [
       "<Figure size 800x500 with 1 Axes>"
      ]
     },
     "metadata": {},
     "output_type": "display_data"
    }
   ],
   "source": [
    "# Graficar accuracy de cada modelo\n",
    "plt.figure(figsize=(8, 5))\n",
    "plt.plot(history.history['accuracy'], label='Train Accuracy')\n",
    "plt.plot(history.history['val_accuracy'], label='Validation Accuracy')\n",
    "plt.title(f'Accuracy vs Val_Accuracy')\n",
    "plt.xlabel('Epochs')\n",
    "plt.ylabel('Accuracy')\n",
    "plt.legend()\n",
    "plt.grid(True)\n",
    "plt.show()"
   ]
  },
  {
   "cell_type": "code",
   "execution_count": 23,
   "id": "ac99c4a6",
   "metadata": {},
   "outputs": [
    {
     "name": "stdout",
     "output_type": "stream",
     "text": [
      "\u001b[1m13/13\u001b[0m \u001b[32m━━━━━━━━━━━━━━━━━━━━\u001b[0m\u001b[37m\u001b[0m \u001b[1m4s\u001b[0m 275ms/step\n"
     ]
    }
   ],
   "source": [
    "# Predicciones individuales de cada modelo\n",
    "preds = model.predict(X_test)\n",
    "final_preds = np.argmax(preds, axis=1)"
   ]
  },
  {
   "cell_type": "code",
   "execution_count": 24,
   "id": "67da2493",
   "metadata": {},
   "outputs": [
    {
     "data": {
      "image/png": "[encoded data removed]",
      "text/plain": [
       "<Figure size 800x600 with 2 Axes>"
      ]
     },
     "metadata": {},
     "output_type": "display_data"
    }
   ],
   "source": [
    "cm = confusion_matrix(y_test, final_preds)\n",
    "plt.figure(figsize=(8, 6))\n",
    "sns.heatmap(cm, annot=True, fmt=\"d\", cmap=\"Blues\", xticklabels=np.arange(cm.shape[1]), yticklabels=np.arange(cm.shape[0]))\n",
    "plt.title(\"Matriz de Confusión\")\n",
    "plt.xlabel(\"Etiqueta Predicha\")\n",
    "plt.ylabel(\"Etiqueta Real\")\n",
    "plt.show()"
   ]
  },
  {
   "cell_type": "code",
   "execution_count": 25,
   "id": "15224927",
   "metadata": {},
   "outputs": [
    {
     "name": "stdout",
     "output_type": "stream",
     "text": [
      "              precision    recall  f1-score   support\n",
      "\n",
      "           0      1.000     1.000     1.000        94\n",
      "           1      1.000     1.000     1.000        96\n",
      "           2      1.000     1.000     1.000        98\n",
      "           3      1.000     1.000     1.000        98\n",
      "\n",
      "    accuracy                          1.000       386\n",
      "   macro avg      1.000     1.000     1.000       386\n",
      "weighted avg      1.000     1.000     1.000       386\n",
      "\n"
     ]
    }
   ],
   "source": [
    "# view classification report\n",
    "print(classification_report(y_test, final_preds, digits=3))"
   ]
  },
  {
   "cell_type": "code",
   "execution_count": 26,
   "id": "d246ab28",
   "metadata": {},
   "outputs": [
    {
     "name": "stderr",
     "output_type": "stream",
     "text": [
      "WARNING:absl:You are saving your model as an HDF5 file via `model.save()` or `keras.saving.save_model(model)`. This file format is considered legacy. We recommend using instead the native Keras format, e.g. `model.save('my_model.keras')` or `keras.saving.save_model(model, 'my_model.keras')`. \n"
     ]
    }
   ],
   "source": [
    "# Save the model\n",
    "model.save('../save_model/transformer_model_100.h5')\n",
    "# Save the history\n",
    "with open('../save_model/history_transformer_100.pkl', 'wb') as f:\n",
    "    pickle.dump(history.history, f)"
   ]
  },
  {
   "cell_type": "code",
   "execution_count": 27,
   "id": "34a5888b",
   "metadata": {},
   "outputs": [
    {
     "data": {
      "text/plain": [
       "(array([0, 1, 2, 3]), array([94, 96, 98, 98]))"
      ]
     },
     "execution_count": 27,
     "metadata": {},
     "output_type": "execute_result"
    }
   ],
   "source": [
    "np.unique(y_test, return_counts=True)"
   ]
  },
  {
   "cell_type": "code",
   "execution_count": 28,
   "id": "3b0a6b4c",
   "metadata": {},
   "outputs": [
    {
     "name": "stdout",
     "output_type": "stream",
     "text": [
      "train: [302 307 312 312]\n",
      "val: [76 77 78 78]\n",
      "test: [94 96 98 98]\n"
     ]
    }
   ],
   "source": [
    "for split_name, split_data in zip(\n",
    "    [\"train\", \"val\", \"test\"], \n",
    "    [y_train, y_val, y_test]):\n",
    "    print(f\"{split_name}: {np.bincount(split_data)}\")\n"
   ]
  },
  {
   "cell_type": "code",
   "execution_count": 29,
   "id": "18ecd0fc",
   "metadata": {},
   "outputs": [
    {
     "name": "stdout",
     "output_type": "stream",
     "text": [
      "Real: 3, Predicho: 3\n",
      "Real: 2, Predicho: 2\n",
      "Real: 3, Predicho: 3\n",
      "Real: 2, Predicho: 2\n",
      "Real: 3, Predicho: 3\n",
      "Real: 3, Predicho: 3\n",
      "Real: 3, Predicho: 3\n",
      "Real: 3, Predicho: 3\n",
      "Real: 3, Predicho: 3\n",
      "Real: 0, Predicho: 0\n"
     ]
    }
   ],
   "source": [
    "for i in range(10):\n",
    "    print(f\"Real: {y_test[i]}, Predicho: {final_preds[i]}\")"
   ]
  }
 ],
 "metadata": {
  "kernelspec": {
   "display_name": "env",
   "language": "python",
   "name": "python3"
  },
  "language_info": {
   "codemirror_mode": {
    "name": "ipython",
    "version": 3
   },
   "file_extension": ".py",
   "mimetype": "text/x-python",
   "name": "python",
   "nbconvert_exporter": "python",
   "pygments_lexer": "ipython3",
   "version": "3.11.5"
  }
 },
 "nbformat": 4,
 "nbformat_minor": 5
}
